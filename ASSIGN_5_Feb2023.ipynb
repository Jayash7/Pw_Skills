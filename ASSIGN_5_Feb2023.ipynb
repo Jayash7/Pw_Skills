{
  "metadata": {
    "language_info": {
      "codemirror_mode": {
        "name": "python",
        "version": 3
      },
      "file_extension": ".py",
      "mimetype": "text/x-python",
      "name": "python",
      "nbconvert_exporter": "python",
      "pygments_lexer": "ipython3",
      "version": "3.8"
    },
    "kernelspec": {
      "name": "python",
      "display_name": "Python (Pyodide)",
      "language": "python"
    }
  },
  "nbformat_minor": 4,
  "nbformat": 4,
  "cells": [
    {
      "cell_type": "markdown",
      "source": "1. Explain Class and Object with respect to Object-Oriented Programming. Give a suitable example.",
      "metadata": {}
    },
    {
      "cell_type": "markdown",
      "source": ">In oops,class is blueprint for creating object,which are instance of class. Class define properties and beheviour.",
      "metadata": {}
    },
    {
      "cell_type": "markdown",
      "source": ">object is an instance of class.It specify realize of the class blueprint that has its own set of attribute and beheviour define class.\n",
      "metadata": {}
    },
    {
      "cell_type": "code",
      "source": "class Car:\n    def __init__(self, make, model, year):\n        self.make = make\n        self.model = model\n        self.year = year\n    \n    def drive(self):\n        return f'The {self.make} {self.model} is driving'\n\ncar1 = Car('Toyota', 'Fortuner', 2022)\ncar2 = Car('Honda', 'Amaze', 2023)\n\nprint(car1.make) # object creating\nprint(car2.model) # object creating\n\ncar1.drive() \ncar2.drive()",
      "metadata": {
        "trusted": true
      },
      "execution_count": 4,
      "outputs": [
        {
          "name": "stdout",
          "text": "Toyota\nAmaze\n",
          "output_type": "stream"
        },
        {
          "execution_count": 4,
          "output_type": "execute_result",
          "data": {
            "text/plain": "'The Honda Amaze is driving'"
          },
          "metadata": {}
        }
      ]
    },
    {
      "cell_type": "markdown",
      "source": "2. Name the four pillars of OOPs.",
      "metadata": {}
    },
    {
      "cell_type": "markdown",
      "source": "> a] Encapsulation\n b] Abstraction\n c] Inheritance\n d] Polymorphism",
      "metadata": {}
    },
    {
      "cell_type": "markdown",
      "source": "3. Explain why the init__() function is used. Give a suitable example.",
      "metadata": {}
    },
    {
      "cell_type": "markdown",
      "source": ">The __init__ function is equivalent to java constructor.The task of the constructor is to initialize to the data member of the class at time of creation.\nLike methods constructor also contain instruction and execute at the time of obbject creation.ex:",
      "metadata": {}
    },
    {
      "cell_type": "code",
      "source": "class test:\n    def __init__(jd,a_value,b_value):\n        jd.__a_value=a_value\n        jd.__b_value=b_value\n        \n    def display(jd):\n        jd.__c_value=jd.__a_value+jd.__b_value\n        print(jd.__c_value)\nobj_test=test(10,20)\nobj_test.display()",
      "metadata": {
        "trusted": true
      },
      "execution_count": 12,
      "outputs": [
        {
          "name": "stdout",
          "text": "30\n",
          "output_type": "stream"
        }
      ]
    },
    {
      "cell_type": "markdown",
      "source": "4. Why self is used in OOPs?",
      "metadata": {}
    },
    {
      "cell_type": "markdown",
      "source": ">Self represent the instance of the class.Using self we can access the attribute and methods of the python class.It bind the attribute with argument.\nPython decided to do methods in a way that makes the instance to which the method belongs be passed automatically.\nAutomatically first parameter is instance of the methods.",
      "metadata": {}
    },
    {
      "cell_type": "markdown",
      "source": "5. What is inheritance? Give an example for each type of inheritance.",
      "metadata": {}
    },
    {
      "cell_type": "markdown",
      "source": ">The mechanism in which class aquires the properties and beheviour of the its parent class it is called as inheritance.ex:",
      "metadata": {}
    },
    {
      "cell_type": "markdown",
      "source": "Single inheritance",
      "metadata": {}
    },
    {
      "cell_type": "code",
      "source": "class test1:\n    def demo(self,a,b):\n        self.a=a\n        self.b=b\n        c=self.a+self.b\n        print(c)\n        \nclass test2(test1):\n    def demo2(self):\n        d=self.a*self.b\n        print(d)\nobj=test2()\nobj.demo(2,3)\nobj.demo2()",
      "metadata": {
        "trusted": true
      },
      "execution_count": 16,
      "outputs": [
        {
          "name": "stdout",
          "text": "5\n6\n",
          "output_type": "stream"
        }
      ]
    },
    {
      "cell_type": "markdown",
      "source": "Multiple inheritance",
      "metadata": {}
    },
    {
      "cell_type": "code",
      "source": "class test1:\n    def demo1(jd):\n        jd._c=jd._a+jd._b\n        print(jd._c)\n\nclass test2:\n    def demo2(jd):\n        jd._d=jd._a*jd._b\n        print(jd._d)\n\nclass test3(test1,test2):\n    def demo3(jd,a,b):\n        jd._a=a\n        jd._b=b\n        jd._e=jd._a - jd._b\n        print(jd._e)\nobj=test3()\nobj.demo3(7,5)\nobj.demo1()\nobj.demo2()",
      "metadata": {
        "trusted": true
      },
      "execution_count": 17,
      "outputs": [
        {
          "name": "stdout",
          "text": "2\n12\n35\n",
          "output_type": "stream"
        }
      ]
    },
    {
      "cell_type": "markdown",
      "source": "Multi level inheritance",
      "metadata": {}
    },
    {
      "cell_type": "code",
      "source": "class grandfather:\n    def grand(jd):\n        print('He is you grandfather')\n        \nclass father(grandfather):\n    def father(jd):\n        print('He is you father')\n\nclass son(father):\n    def son(jd):\n        print('This is you')\n\nobj=son()\nobj.father()\nobj.grand()\nobj.son()",
      "metadata": {
        "trusted": true
      },
      "execution_count": 19,
      "outputs": [
        {
          "name": "stdout",
          "text": "He is you father\nHe is you grandfather\nThis is you\n",
          "output_type": "stream"
        }
      ]
    },
    {
      "cell_type": "markdown",
      "source": "Herarchical inheritance",
      "metadata": {}
    },
    {
      "cell_type": "code",
      "source": "class father:\n    def father(self):\n        print(\"He is your father\")\n \nclass Child1(father):\n    def son1(self):\n        print(\"He is your brother\")\n\nclass Child2(father):\n    def son2(self):\n        print(\"He is your brother\")\n\nobject1 = Child1()\nobject2 = Child2()\nobject1.father()\nobject1.son1()\nobject2.father()\nobject2.son2()",
      "metadata": {
        "trusted": true
      },
      "execution_count": 20,
      "outputs": [
        {
          "name": "stdout",
          "text": "He is your father\nHe is your brother\nHe is your father\nHe is your brother\n",
          "output_type": "stream"
        }
      ]
    },
    {
      "cell_type": "markdown",
      "source": "hybrid inheritance",
      "metadata": {}
    },
    {
      "cell_type": "code",
      "source": "class School:\n    def sch(self):\n        print(\"He is in school\")\n \n \nclass classes(School):\n    def clas(self):\n        print(\"He is in classes\")\n \n \nclass child1(School):\n    def child_1(self):\n        print(\"This function is in student 2.\")\n \n \nclass child2(classes, School):\n    def child_2(self):\n        print(\"This function is in student 3.\")\n\nobject = child2()\nobject.sch()\nobject.clas()",
      "metadata": {
        "trusted": true
      },
      "execution_count": 21,
      "outputs": [
        {
          "name": "stdout",
          "text": "He is in school\nHe is in classes\n",
          "output_type": "stream"
        }
      ]
    }
  ]
}