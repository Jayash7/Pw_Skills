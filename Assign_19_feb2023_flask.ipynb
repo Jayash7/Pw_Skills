{
 "cells": [
  {
   "cell_type": "markdown",
   "metadata": {},
   "source": [
    "Q1. What is Flask Framework? What are the advantages of Flask Framework?"
   ]
  },
  {
   "cell_type": "markdown",
   "metadata": {},
   "source": [
    ">Flask is a lightweight and flexible web framework for Python. It is designed to be simple and easy to use, allowing developers to quickly build web applications and APIs. Flask follows the WSGI (Web Server Gateway Interface) specification and is based on the Werkzeug WSGI toolkit and the Jinja2 template engine.\n",
    "\n",
    ">Here are some key advantages of Flask:\n",
    "\n",
    ">Simplicity: Flask follows the principle of simplicity, providing a minimalistic framework that focuses on the core functionality needed for web development. Its simple and intuitive API makes it easy for developers to get started with building web applications.\n",
    "\n",
    ">Flexibility: Flask is highly flexible and allows developers to structure their applications in a way that makes sense for their specific requirements. There are no rigid conventions or predefined structures, giving developers the freedom to organize their code as they see fit.\n",
    "\n",
    ">Modularity: Flask is designed to be modular, with a flexible extension system that allows developers to add additional features and functionality to their applications as needed. There is a wide range of Flask extensions available for tasks such as authentication, database integration, form handling, and more.\n",
    "\n",
    ">Lightweight: Flask is lightweight and has minimal dependencies, making it easy to install and deploy. Its low overhead makes it suitable for building small-scale applications and prototypes, as well as larger, more complex applications.\n",
    "\n",
    ">Jinja2 Templating: Flask uses the Jinja2 templating engine, which provides powerful template inheritance, macros, filters, and other features for generating dynamic HTML content. Jinja2 templates make it easy to create HTML pages with dynamic content and maintain a clean separation between application logic and presentation.\n",
    "\n",
    ">Built-in Development Server: Flask comes with a built-in development server, which makes it easy to run and test applications locally during the development process. The development server is lightweight and easy to use, providing a convenient environment for rapid iteration and testing.\n",
    "\n",
    ">Large Ecosystem: Flask has a large and active community of developers who contribute plugins, extensions, tutorials, and other resources to help fellow developers. The Flask ecosystem is rich and diverse, with a wide range of third-party libraries and tools available to extend and enhance Flask-based applications."
   ]
  },
  {
   "cell_type": "markdown",
   "metadata": {},
   "source": [
    "Q2. Create a simple Flask application to display ‘Hello World!!’. Attach the screenshot of the output in\n",
    "Jupyter Notebook."
   ]
  },
  {
   "cell_type": "code",
   "execution_count": null,
   "metadata": {
    "vscode": {
     "languageId": "plaintext"
    }
   },
   "outputs": [],
   "source": [
    "from flask import Flask\n",
    "\n",
    "app = Flask(__name__)\n",
    "\n",
    "@app.route('/')\n",
    "def hello_world():\n",
    "    return 'Hello World!!'\n",
    "\n",
    "if __name__ == '__main__':\n",
    "    app.run(debug=True)\n"
   ]
  },
  {
   "cell_type": "markdown",
   "metadata": {},
   "source": [
    "Q3. What is App routing in Flask? Why do we use app routes?"
   ]
  },
  {
   "cell_type": "markdown",
   "metadata": {},
   "source": [
    ">In Flask, routing refers to the process of defining how the application responds to different URLs. The term \"app routing\" specifically relates to defining routes in a Flask application. Routes determine the mapping between the URLs requested by clients (usually web browsers) and the functions or views that handle those requests in the Flask application."
   ]
  },
  {
   "cell_type": "markdown",
   "metadata": {},
   "source": [
    "Q4. Create a “/welcome” route to display the welcome message “Welcome to ABC Corporation” and a “/”\n",
    "route to show the following details:\n",
    "Company Name: ABC Corporation\n",
    "Location: India\n",
    "Contact Detail: 999-999-9999"
   ]
  },
  {
   "cell_type": "code",
   "execution_count": null,
   "metadata": {
    "vscode": {
     "languageId": "plaintext"
    }
   },
   "outputs": [],
   "source": [
    "from flask import Flask\n",
    "\n",
    "app = Flask(__name__)\n",
    "\n",
    "@app.route('/welcome')\n",
    "def welcome():\n",
    "    return 'Welcome to ABC Corporation'\n",
    "\n",
    "@app.route('/')\n",
    "def company_details():\n",
    "    return '''\n",
    "    <h1>Company Name: ABC Corporation</h1>\n",
    "    <h2>Location: India</h2>\n",
    "    <h2>Contact Detail: 999-999-9999</h2>\n",
    "    '''\n",
    "\n",
    "if __name__ == '__main__':\n",
    "    app.run(debug=True)\n"
   ]
  },
  {
   "cell_type": "markdown",
   "metadata": {},
   "source": [
    "Q5. What function is used in Flask for URL Building? Write a Python code to demonstrate the working of the\n",
    "url_for() function."
   ]
  },
  {
   "cell_type": "code",
   "execution_count": null,
   "metadata": {
    "vscode": {
     "languageId": "plaintext"
    }
   },
   "outputs": [],
   "source": [
    "from flask import Flask, url_for\n",
    "\n",
    "app = Flask(__name__)\n",
    "\n",
    "@app.route('/')\n",
    "def index():\n",
    "    return 'Welcome to the home page!'\n",
    "\n",
    "@app.route('/user/<username>')\n",
    "def user_profile(username):\n",
    "    return f'User profile for {username}'\n",
    "\n",
    "if __name__ == '__main__':\n",
    "    with app.test_request_context():\n",
    "        # Generating URLs using url_for() function\n",
    "        print(url_for('index'))                 # Output: /\n",
    "        print(url_for('user_profile', username='john'))  # Output: /user/john\n"
   ]
  }
 ],
 "metadata": {
  "language_info": {
   "name": "python"
  }
 },
 "nbformat": 4,
 "nbformat_minor": 2
}
