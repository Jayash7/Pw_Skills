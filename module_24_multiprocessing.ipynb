{
 "cells": [
  {
   "cell_type": "markdown",
   "metadata": {},
   "source": [
    "Q1. What is multiprocessing in python? Why is it useful?"
   ]
  },
  {
   "cell_type": "markdown",
   "metadata": {},
   "source": [
    "> Multiprocessing is a module in Python that allows the creation of multiple processes to run concurrently, leveraging multiple CPU cores for parallel execution. This is especially useful for CPU-bound tasks where multiple processes can execute simultaneously, thereby improving performance and efficiency.\n",
    "\n",
    "> True Parallelism: Unlike multithreading, multiprocessing bypasses the Global Interpreter Lock (GIL), enabling true parallel execution of Python code.\n",
    "\n",
    "> Performance: It can significantly improve the performance of CPU-bound tasks by utilizing multiple CPU cores.\n",
    "> Isolation: Each process runs in its own memory space, providing isolation and reducing the risk of race conditions and deadlocks."
   ]
  },
  {
   "cell_type": "markdown",
   "metadata": {},
   "source": [
    "Q2. What are the differences between multiprocessing and multithreading?"
   ]
  },
  {
   "cell_type": "markdown",
   "metadata": {},
   "source": [
    "> Key Differences: Execution\n",
    "\n",
    "> Multiprocessing: Involves multiple processes running in parallel. Each process has its own memory space.\n",
    "\n",
    "> Multithreading: Involves multiple threads within a single process. Threads share the same memory space.\n",
    "GIL (Global Interpreter Lock):\n",
    "\n",
    "> Multiprocessing: Not affected by the GIL, allowing true parallelism.\n",
    "\n",
    "> Multithreading: Limited by the GIL in CPython, which can prevent true parallel execution for CPU-bound tasks.\n",
    "Memory Usage:\n",
    "\n",
    "> Multiprocessing: Higher memory usage due to separate memory spaces for each process.\n",
    "\n",
    "> Multithreading: Lower memory usage since threads share the same memory space.\n",
    "Inter-process Communication:\n",
    "\n",
    "> Multiprocessing: Requires mechanisms like pipes and queues for communication between processes.\n",
    "\n",
    "> Multithreading: Easier communication as threads share the same memory.\n",
    "Complexity:\n",
    "\n",
    "> Multiprocessing: More complex to manage due to separate memory spaces and inter-process communication.\n",
    "\n",
    "> Multithreading: Simpler to manage within the same process, but more prone to synchronization issues."
   ]
  },
  {
   "cell_type": "markdown",
   "metadata": {},
   "source": [
    "Q3. Write a Python code to create a process using the multiprocessing module."
   ]
  },
  {
   "cell_type": "code",
   "execution_count": null,
   "metadata": {},
   "outputs": [],
   "source": [
    "import multiprocessing\n",
    "\n",
    "def print_hello():\n",
    "    print(\"Hello from the process\")\n",
    "\n",
    "if __name__ == \"__main__\":\n",
    "    process = multiprocessing.Process(target=print_hello)\n",
    "    process.start()\n",
    "    process.join()"
   ]
  },
  {
   "cell_type": "markdown",
   "metadata": {},
   "source": [
    "Q4. What is a multiprocessing pool in Python? Why is it used?"
   ]
  },
  {
   "cell_type": "markdown",
   "metadata": {},
   "source": [
    "> A multiprocessing pool is a collection of worker processes in Python that can be used to parallelize the execution of a function across multiple input values. It is used to manage multiple processes and distribute tasks among them efficiently.\n",
    "\n",
    "> Task Distribution: Automatically handles the distribution of tasks among multiple processes.\n",
    "\n",
    "> Resource Management: Manages the lifecycle of worker processes, reducing overhead.\n",
    "\n",
    "> Convenience: Provides an easy-to-use interface for parallel execution using apply, map, and apply_async methods."
   ]
  },
  {
   "cell_type": "markdown",
   "metadata": {},
   "source": [
    "Q5. How can we create a pool of worker processes in Python using the multiprocessing module"
   ]
  },
  {
   "cell_type": "code",
   "execution_count": 1,
   "metadata": {},
   "outputs": [],
   "source": [
    "import multiprocessing\n",
    "\n",
    "def square(x):\n",
    "    return x * x\n",
    "\n",
    "if __name__ == \"__main__\":\n",
    "    with multiprocessing.Pool(processes=4) as pool:\n",
    "        results = pool.map(square, range(10))\n",
    "        print(results)"
   ]
  },
  {
   "cell_type": "markdown",
   "metadata": {},
   "source": [
    "Q6. Write a Python program to create 4 processes, each process should print a different number using the multiprocessing module in Python"
   ]
  },
  {
   "cell_type": "code",
   "execution_count": null,
   "metadata": {},
   "outputs": [],
   "source": [
    "import multiprocessing\n",
    "\n",
    "def print_number(number):\n",
    "    print(f\"Process {multiprocessing.current_process().name}: {number}\")\n",
    "\n",
    "if __name__ == \"__main__\":\n",
    "    numbers = [1, 2, 3, 4]\n",
    "    processes = []\n",
    "\n",
    "    for number in numbers:\n",
    "        process = multiprocessing.Process(target=print_number, args=(number,))\n",
    "        processes.append(process)\n",
    "        process.start()\n",
    "\n",
    "    for process in processes:\n",
    "        process.join()\n"
   ]
  }
 ],
 "metadata": {
  "kernelspec": {
   "display_name": "vs_etl",
   "language": "python",
   "name": "python3"
  },
  "language_info": {
   "codemirror_mode": {
    "name": "ipython",
    "version": 3
   },
   "file_extension": ".py",
   "mimetype": "text/x-python",
   "name": "python",
   "nbconvert_exporter": "python",
   "pygments_lexer": "ipython3",
   "version": "3.10.13"
  }
 },
 "nbformat": 4,
 "nbformat_minor": 2
}
