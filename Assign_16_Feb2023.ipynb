{
  "metadata": {
    "language_info": {
      "codemirror_mode": {
        "name": "python",
        "version": 3
      },
      "file_extension": ".py",
      "mimetype": "text/x-python",
      "name": "python",
      "nbconvert_exporter": "python",
      "pygments_lexer": "ipython3",
      "version": "3.8"
    },
    "kernelspec": {
      "name": "python",
      "display_name": "Python (Pyodide)",
      "language": "python"
    }
  },
  "nbformat_minor": 4,
  "nbformat": 4,
  "cells": [
    {
      "cell_type": "markdown",
      "source": "Q1. What is a database? Differentiate between SQL and NoSQL databases.",
      "metadata": {}
    },
    {
      "cell_type": "markdown",
      "source": ">A database is a collection of data that is organized in a specific manner to allow easy access, retrieval, and manipulation of the data.\nTwo types of database:",
      "metadata": {}
    },
    {
      "cell_type": "markdown",
      "source": ">a]SQL database: SQL stands for Structured Query Language. SQL databases are relational databases that store data in tables with predefined relationships between the tables. SQL databases are widely used in businesses, financial institutions, and other industries where data accuracy and consistency are critical. Examples of SQL databases are MySQL, Oracle, Microsoft SQL Server, and PostgreSQL.\n",
      "metadata": {}
    },
    {
      "cell_type": "markdown",
      "source": ">b]NoSQL databases: NoSQL stands for \"not only SQL\". NoSQL databases are non-relational databases that store data in a flexible, unstructured manner. Unlike SQL databases, NoSQL databases do not require predefined relationships between tables. Instead, they use a variety of data models, including document-oriented, key-value, graph, and column-family. Examples of NoSQL databases are MongoDB, Cassandra, and Redis.\n",
      "metadata": {}
    },
    {
      "cell_type": "markdown",
      "source": "Q2. What is DDL? Explain why CREATE, DROP, ALTER, and TRUNCATE are used with an example.",
      "metadata": {}
    },
    {
      "cell_type": "markdown",
      "source": "> DDL stands for Data Definition Language.Use to define,modify and remove structure of objects.",
      "metadata": {}
    },
    {
      "cell_type": "markdown",
      "source": ">Create: Use to create databases object such as table,views,index,procedure,etc.",
      "metadata": {}
    },
    {
      "cell_type": "markdown",
      "source": ">ex: Create table emp(id number,name varchar2(25),salary number);",
      "metadata": {}
    },
    {
      "cell_type": "markdown",
      "source": ">Drop: Use to drop objects in DB such as tables,views,etc.",
      "metadata": {}
    },
    {
      "cell_type": "markdown",
      "source": ">drop table emp;",
      "metadata": {}
    },
    {
      "cell_type": "markdown",
      "source": ">ALTER: Use to modify pre-existing object in db.",
      "metadata": {}
    },
    {
      "cell_type": "markdown",
      "source": ">alter table emp add join_date date;",
      "metadata": {}
    },
    {
      "cell_type": "markdown",
      "source": ">TRUNCATE : Use to remove all data from the table.",
      "metadata": {}
    },
    {
      "cell_type": "markdown",
      "source": ">truncate table emp;",
      "metadata": {}
    },
    {
      "cell_type": "markdown",
      "source": "Q3. What is DML? Explain INSERT, UPDATE, and DELETE with an example.",
      "metadata": {}
    },
    {
      "cell_type": "markdown",
      "source": ">DML stands for data manipulation Language.It is use to interact & modify the data in RDB.",
      "metadata": {}
    },
    {
      "cell_type": "markdown",
      "source": ">Insert : Use to add new row into a table.",
      "metadata": {}
    },
    {
      "cell_type": "markdown",
      "source": ">Ex. Insert into emp  values(101,’RAM’,45000); ",
      "metadata": {}
    },
    {
      "cell_type": "markdown",
      "source": ">Update: Use to modify existing data in table.",
      "metadata": {}
    },
    {
      "cell_type": "markdown",
      "source": "> Ex. Update emp set salary=50000 where id =101;",
      "metadata": {}
    },
    {
      "cell_type": "markdown",
      "source": "> Delete: Use to remove row from table.",
      "metadata": {}
    },
    {
      "cell_type": "markdown",
      "source": "> Ex. delete from emp where id =101;",
      "metadata": {}
    },
    {
      "cell_type": "markdown",
      "source": "Q4. What is DQL? Explain SELECT with an example.",
      "metadata": {}
    },
    {
      "cell_type": "markdown",
      "source": ">DQL is stands for data query language and it is used to retrieve data from a RDB.\nThe most commonly command is select which retrieve data from two or more tables.\nSelect id from emp;",
      "metadata": {}
    },
    {
      "cell_type": "markdown",
      "source": "Q5. Explain Primary Key and Foreign Key.",
      "metadata": {}
    },
    {
      "cell_type": "markdown",
      "source": ">Primary key is constraint which ensure that row in table have unique value. The primary key are used as a reference for foreign key in other table. Primary key can be created after table is created.",
      "metadata": {}
    },
    {
      "cell_type": "markdown",
      "source": ">Foreign key is a column or a set of columns in a table that refers to the primary key of another table. The foreign key constraint ensures that the values in the foreign key column(s) of a table match the values in the primary key column of the referenced table. Foreign keys are used to establish relationships between tables in a database. By referencing a primary key in another table, a foreign key allows you to create a link between the data in two tables.",
      "metadata": {}
    },
    {
      "cell_type": "markdown",
      "source": "Q6. Write a python code to connect MySQL to python. Explain the cursor() and execute() method.",
      "metadata": {}
    },
    {
      "cell_type": "code",
      "source": "import pymysql\nconn = pymysql.connect(\n    host='localhost',\n    user='demo_db',\n    password='demo_mysql',\n    db='mydb'\n)\ncursor = conn.cursor()\ncursor.execute(\"SELECT * FROM EMP\")\nresults = cursor.fetchall()\nfor row in results:\n    print(row)\ncursor.close()\nconn.close()",
      "metadata": {
        "trusted": true
      },
      "execution_count": null,
      "outputs": []
    },
    {
      "cell_type": "markdown",
      "source": ">Cursor method create a cursor objects,which use to execute sql queries and fetch result.",
      "metadata": {}
    },
    {
      "cell_type": "markdown",
      "source": ">Execute method used to execute a sql query. The query is passed as a string parameter to this method. Ones query executed the result is fetch using method like fetchone() or fetchall(). ",
      "metadata": {}
    },
    {
      "cell_type": "markdown",
      "source": "Q7. Give the order of execution of SQL clauses in an SQL query.",
      "metadata": {}
    },
    {
      "cell_type": "markdown",
      "source": ">FROM: This clause specifies the table or tables from which the data is being retrieved.",
      "metadata": {}
    },
    {
      "cell_type": "markdown",
      "source": ">JOIN: This clause is used to combine rows from two or more tables based on a related column between them.",
      "metadata": {}
    },
    {
      "cell_type": "markdown",
      "source": ">WHERE: This clause is used to filter the rows returned by the query based on a specified condition.",
      "metadata": {}
    },
    {
      "cell_type": "markdown",
      "source": ">GROUP BY: This clause is used to group the rows returned by the query based on one or more columns.",
      "metadata": {}
    },
    {
      "cell_type": "markdown",
      "source": ">HAVING: This clause is used to filter the groups returned by the query based on a specified condition.",
      "metadata": {}
    },
    {
      "cell_type": "markdown",
      "source": ">SELECT: This clause is used to select the columns that will be returned by the query.",
      "metadata": {}
    },
    {
      "cell_type": "markdown",
      "source": ">DISTINCT: This clause is used to eliminate duplicate rows from the result set.",
      "metadata": {}
    },
    {
      "cell_type": "markdown",
      "source": ">ORDER BY: This clause is used to sort the rows returned by the query based on one or more columns.",
      "metadata": {}
    },
    {
      "cell_type": "markdown",
      "source": ">LIMIT: This clause is used to limit the number of rows returned by the query.",
      "metadata": {}
    }
  ]
}