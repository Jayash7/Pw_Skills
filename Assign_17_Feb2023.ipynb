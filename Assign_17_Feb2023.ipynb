{
  "metadata": {
    "language_info": {
      "codemirror_mode": {
        "name": "python",
        "version": 3
      },
      "file_extension": ".py",
      "mimetype": "text/x-python",
      "name": "python",
      "nbconvert_exporter": "python",
      "pygments_lexer": "ipython3",
      "version": "3.8"
    },
    "kernelspec": {
      "name": "python",
      "display_name": "Python (Pyodide)",
      "language": "python"
    }
  },
  "nbformat_minor": 4,
  "nbformat": 4,
  "cells": [
    {
      "cell_type": "markdown",
      "source": "Q1. What is MongoDB? Explain non-relational databases in short. In which scenarios it is preferred to use MongoDB over SQL databases?\n",
      "metadata": {}
    },
    {
      "cell_type": "markdown",
      "source": ">Mongodb is most common NoSQL database system that provides a flexible and scalable approach to store, manage, and retrieve data.Ii use json like document model,which allows data to store in a schema-less and dynamic.\nNon-relational databases are such database which do not use traditional relational mode to store data.It use key-value, document, graph, and column-family, to store and retrieve data. It design to handle large data in structure or unstructured,provide high availability.\nMongodb is preferred over sql database where we need for scalability,flexibility and dynamic schema. This makes it well-suited for applications that have rapidly changing data structures, high write throughput, or require real-time analytics.\n",
      "metadata": {}
    },
    {
      "cell_type": "markdown",
      "source": "Q2. State and Explain the features of MongoDB.",
      "metadata": {}
    },
    {
      "cell_type": "markdown",
      "source": ">Schema-less Database: It is the great feature provided by the MongoDB. A Schema-less database means one collection can hold different types of documents in it. Or in other words, in the MongoDB database, a single collection can hold multiple documents and these documents may consist of the different numbers of fields, content, and size. It is not necessary that the one document is similar to another document like in the relational databases. Due to this cool feature, MongoDB provides great flexibility to databases.\n",
      "metadata": {}
    },
    {
      "cell_type": "markdown",
      "source": ">Document Oriented: In MongoDB, all the data stored in the documents instead of tables like in RDBMS. In these documents, the data is stored in fields(key-value pair) instead of rows and columns which make the data much more flexible in comparison to RDBMS. And each document contains its unique object id.\n",
      "metadata": {}
    },
    {
      "cell_type": "markdown",
      "source": ">Indexing: In MongoDB database, every field in the documents is indexed with primary and secondary indices this makes easier and takes less time to get or search data from the pool of the data. If the data is not indexed, then database search each document with the specified query which takes lots of time and not so efficient.\n",
      "metadata": {}
    },
    {
      "cell_type": "markdown",
      "source": ">Scalability: MongoDB provides horizontal scalability with the help of sharding. Sharding means to distribute data on multiple servers, here a large amount of data is partitioned into data chunks using the shard key, and these data chunks are evenly distributed across shards that reside across many physical servers. It will also add new machines to a running database.\n",
      "metadata": {}
    },
    {
      "cell_type": "markdown",
      "source": ">Replication: MongoDB provides high availability and redundancy with the help of replication, it creates multiple copies of the data and sends these copies to a different server so that if one server fails, then the data is retrieved from another server.\n",
      "metadata": {}
    },
    {
      "cell_type": "markdown",
      "source": ">Aggregation: It allows to perform operations on the grouped data and get a single result or computed result. It is similar to the SQL GROUPBY clause. It provides three different aggregations i.e, aggregation pipeline, map-reduce function, and single-purpose aggregation methods\n",
      "metadata": {}
    },
    {
      "cell_type": "markdown",
      "source": ">High Performance: The performance of MongoDB is very high and data persistence as compared to another database due to its features like scalability, indexing, replication, etc.\n",
      "metadata": {}
    },
    {
      "cell_type": "markdown",
      "source": "Q3. Write a code to connect MongoDB to Python. Also, create a database and a collection in MongoDB.",
      "metadata": {}
    },
    {
      "cell_type": "code",
      "source": "from pymongo import MongoClient\nclient = MongoClient('localhost')\ndb = client['mydb']\ncollection = db['mydb']\ndocument = {\"name\": \"RAM\", \"age\": 30, \"city\": \"DELHI\"}\ncollection.insert_one(document)\nfor doc in collection.find():\n    print(doc)",
      "metadata": {
        "trusted": true
      },
      "execution_count": null,
      "outputs": []
    },
    {
      "cell_type": "markdown",
      "source": "Q4. Using the database and the collection created in question number 3, write a code to insert one record, and insert many records. Use the find() and find_one() methods to print the inserted record.\n",
      "metadata": {}
    },
    {
      "cell_type": "code",
      "source": "from pymongo import MongoClient\nclient = MongoClient('localhost')\ndb = client['mydb']\ncollection = db['mydb']\ndocument = {\"name\": \"RAM\", \"age\": 30, \"city\": \"DELHI\"}\ncollection.insert_one(document)\nrecords = [  {\"name\": \"Peter\", \"address\": \"Lowstreet 27\"},\n  {\"name\": \"Amy\", \"address\": \"Apple st 652\"},\n  {\"name\": \"Hannah\", \"address\": \"Mountain 21\"},\n  {\"name\": \"Michael\", \"address\": \"Valley 345\"},\n  {\"name\": \"Sandy\", \"address\": \"Ocean blvd 2\"},\n  {\"name\": \"Betty\", \"address\": \"Green Grass 1\"},\n  {\"name\": \"Richard\", \"address\": \"Sky st 331\"}\n]\ncollection.insert_many(record)\ndata=collection.find_one()\nprint(data)\nresult=collection.find()\nfor rec in result:\n   print(rec)",
      "metadata": {
        "trusted": true
      },
      "execution_count": null,
      "outputs": []
    },
    {
      "cell_type": "markdown",
      "source": "Q5. Explain how you can use the find() method to query the MongoDB database. Write a simple code to demonstrate this.\n",
      "metadata": {}
    },
    {
      "cell_type": "markdown",
      "source": ">The find() method in pymongo allows you to query in mongodb to retrieve document that match a specific criteria.We can specify the criteria using a dictionary.\n",
      "metadata": {}
    },
    {
      "cell_type": "code",
      "source": "from pymongo import MongoClient\nclient = MongoClient('localhost')\ndb = client['mydb']\ncollection = db['mydb']\nquery = {\"name\": \"RAM\"}\nresult=collection.find(query);\nfor i in result:\n    print(i)",
      "metadata": {
        "trusted": true
      },
      "execution_count": null,
      "outputs": []
    },
    {
      "cell_type": "markdown",
      "source": "Q6. Explain the sort() method. Give an example to demonstrate sorting in MongoDB.\n",
      "metadata": {}
    },
    {
      "cell_type": "markdown",
      "source": "The sort() method is used to sort the document in a collection based on one or more field.\nWe can use this method to retrieve in specific order like ascending or descending.",
      "metadata": {}
    },
    {
      "cell_type": "code",
      "source": "from pymongo import MongoClient\nclient = MongoClient('localhost')\ndb = client['mydb']\ncollection = db['mydb']\nresult=collection.find().sort('name',1);\nfor i in result:\n    print(i)",
      "metadata": {
        "trusted": true
      },
      "execution_count": null,
      "outputs": []
    },
    {
      "cell_type": "markdown",
      "source": "Q7. Explain why delete_one(), delete_many(), and drop() is used.",
      "metadata": {}
    },
    {
      "cell_type": "markdown",
      "source": ">Delete_one(),delete_many and drop() methods are use to remove document or collection from the database.\n",
      "metadata": {}
    },
    {
      "cell_type": "markdown",
      "source": ">delete_one() is used to delete a single document that matches a specified criteria. This method take dictionary as argument where each key represents a field to match and the value is the value to match against. If more than one document matches the criteria, only the first document will be deleted.\n",
      "metadata": {}
    },
    {
      "cell_type": "markdown",
      "source": ">delete_many() is used to delete multiple documents that match a specified criteria. This method takes a dictionary as its argument, where each key represents a field to match and the value is the value to match against. All documents that match the criteria will be deleted.\n",
      "metadata": {}
    },
    {
      "cell_type": "markdown",
      "source": ">drop() is used to delete an entire collection from a database. This method does not take any arguments, and will delete the entire collection along with all its documents.\n",
      "metadata": {}
    }
  ]
}