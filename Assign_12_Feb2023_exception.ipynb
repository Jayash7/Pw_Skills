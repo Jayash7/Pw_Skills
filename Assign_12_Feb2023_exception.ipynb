{
 "cells": [
  {
   "cell_type": "markdown",
   "metadata": {},
   "source": [
    "Q1. What is an Exception in python? Write the difference between Exceptions and Synatax errors"
   ]
  },
  {
   "cell_type": "markdown",
   "metadata": {},
   "source": [
    ">Exceptions are used to handle runtime errors, such as division by zero, accessing an index out of range, or attempting to open a file that does not exist. By handling exceptions, you can gracefully recover from errors and prevent your program from crashing.\n",
    "\n",
    ">Here's the difference between exceptions and syntax errors:\n",
    "\n",
    ">Exceptions:\n",
    "Exceptions occur during the execution of a program.\n",
    "They are runtime errors that disrupt the normal flow of the program.\n",
    "Examples include division by zero, accessing an index out of range, or attempting to open a file that does not exist.\n",
    "Exceptions can be handled using try, except, finally, and raise statements.\n",
    "\n",
    ">Syntax Errors:\n",
    "Syntax errors occur during the parsing of the Python code.\n",
    "They are caused by incorrect syntax or structure in the code, such as missing colons, unmatched parentheses, or misspelled keywords.Syntax errors prevent the code from being executed at all.\n",
    "Examples include missing indentation in a block of code, using a reserved keyword as a variable name, or forgetting to close a parenthesis."
   ]
  },
  {
   "cell_type": "markdown",
   "metadata": {},
   "source": [
    "Q2. What happens when an exception is not handled? Explain with an example."
   ]
  },
  {
   "cell_type": "markdown",
   "metadata": {},
   "source": [
    ">When an exception is not handled, it propagates up the call stack until it reaches the top level of the program. If it is still not handled at the top level, the program terminates, and Python displays the default error message along with a traceback of the code that led to the exception."
   ]
  },
  {
   "cell_type": "code",
   "execution_count": null,
   "metadata": {},
   "outputs": [],
   "source": [
    "def divide(x, y):\n",
    "    result = x / y\n",
    "    return result\n",
    "\n",
    "result = divide(10, 0)\n",
    "print(\"Result:\", result)\n"
   ]
  },
  {
   "cell_type": "markdown",
   "metadata": {},
   "source": [
    "Q3. Which Python statements are used to catch and handle exceptions? Explain with an example."
   ]
  },
  {
   "cell_type": "markdown",
   "metadata": {},
   "source": [
    ">try: The try block contains the code that might raise an exception. If an exception occurs within the try block, the corresponding except block is executed.\n",
    "\n",
    ">except: The except block is used to catch and handle specific exceptions. You can have multiple except blocks to handle different types of exceptions.\n",
    "\n",
    ">else: The else block is optional and is executed only if no exception occurs in the try block. It is typically used to specify code that should run when no exceptions are raised.\n",
    "\n",
    ">finally: The finally block is optional and is always executed, whether an exception occurs or not. It is typically used to specify cleanup code, such as closing files or releasing resources."
   ]
  },
  {
   "cell_type": "code",
   "execution_count": 2,
   "metadata": {},
   "outputs": [
    {
     "name": "stdout",
     "output_type": "stream",
     "text": [
      "Error: Division by zero is not allowed.\n",
      "This block is always executed, regardless of exceptions.\n",
      "Error: Invalid data types for division.\n",
      "This block is always executed, regardless of exceptions.\n",
      "Result of the division: 4.0\n",
      "This block is always executed, regardless of exceptions.\n"
     ]
    }
   ],
   "source": [
    "def divide(x, y):\n",
    "    try:\n",
    "        result = x / y\n",
    "    except ZeroDivisionError:\n",
    "        print(\"Error: Division by zero is not allowed.\")\n",
    "    except TypeError:\n",
    "        print(\"Error: Invalid data types for division.\")\n",
    "    else:\n",
    "        print(\"Result of the division:\", result)\n",
    "    finally:\n",
    "        print(\"This block is always executed, regardless of exceptions.\")\n",
    "\n",
    "divide(10, 0)\n",
    "divide(\"abc\", 2)\n",
    "divide(20, 5)\n"
   ]
  },
  {
   "cell_type": "markdown",
   "metadata": {},
   "source": [
    "Q4. Explain with an example:\n",
    "\n",
    "a.try and else\n",
    "\n",
    "b.finally\n",
    "\n",
    "c.raise"
   ]
  },
  {
   "cell_type": "code",
   "execution_count": 3,
   "metadata": {},
   "outputs": [
    {
     "name": "stdout",
     "output_type": "stream",
     "text": [
      "The division was successful. Result: 5.0\n"
     ]
    }
   ],
   "source": [
    "try:\n",
    "    result = 10 / 2\n",
    "except ZeroDivisionError:\n",
    "    print(\"Error: Division by zero is not allowed.\")\n",
    "else:\n",
    "    print(\"The division was successful. Result:\", result)"
   ]
  },
  {
   "cell_type": "code",
   "execution_count": 5,
   "metadata": {},
   "outputs": [
    {
     "name": "stdout",
     "output_type": "stream",
     "text": [
      "Error: File not found.\n"
     ]
    },
    {
     "ename": "NameError",
     "evalue": "name 'f' is not defined",
     "output_type": "error",
     "traceback": [
      "\u001b[1;31m---------------------------------------------------------------------------\u001b[0m",
      "\u001b[1;31mNameError\u001b[0m                                 Traceback (most recent call last)",
      "Cell \u001b[1;32mIn[5], line 7\u001b[0m\n\u001b[0;32m      5\u001b[0m     \u001b[38;5;28mprint\u001b[39m(\u001b[38;5;124m\"\u001b[39m\u001b[38;5;124mError: File not found.\u001b[39m\u001b[38;5;124m\"\u001b[39m)\n\u001b[0;32m      6\u001b[0m \u001b[38;5;28;01mfinally\u001b[39;00m:\n\u001b[1;32m----> 7\u001b[0m     \u001b[38;5;28;01mif\u001b[39;00m \u001b[43mf\u001b[49m:\n\u001b[0;32m      8\u001b[0m         f\u001b[38;5;241m.\u001b[39mclose()\n",
      "\u001b[1;31mNameError\u001b[0m: name 'f' is not defined"
     ]
    }
   ],
   "source": [
    "try:\n",
    "    f = open(\"example.txt\", \"r\")\n",
    "    print(f.read())\n",
    "except FileNotFoundError:\n",
    "    print(\"Error: File not found.\")\n",
    "finally:\n",
    "    if f:\n",
    "        f.close()"
   ]
  },
  {
   "cell_type": "code",
   "execution_count": 6,
   "metadata": {},
   "outputs": [
    {
     "ename": "Exception",
     "evalue": "x should not exceed 5. The value of x was: 10",
     "output_type": "error",
     "traceback": [
      "\u001b[1;31m---------------------------------------------------------------------------\u001b[0m",
      "\u001b[1;31mException\u001b[0m                                 Traceback (most recent call last)",
      "Cell \u001b[1;32mIn[6], line 3\u001b[0m\n\u001b[0;32m      1\u001b[0m x \u001b[38;5;241m=\u001b[39m \u001b[38;5;241m10\u001b[39m\n\u001b[0;32m      2\u001b[0m \u001b[38;5;28;01mif\u001b[39;00m x \u001b[38;5;241m>\u001b[39m \u001b[38;5;241m5\u001b[39m:\n\u001b[1;32m----> 3\u001b[0m     \u001b[38;5;28;01mraise\u001b[39;00m \u001b[38;5;167;01mException\u001b[39;00m(\u001b[38;5;124m\"\u001b[39m\u001b[38;5;124mx should not exceed 5. The value of x was: \u001b[39m\u001b[38;5;132;01m{}\u001b[39;00m\u001b[38;5;124m\"\u001b[39m\u001b[38;5;241m.\u001b[39mformat(x))\n",
      "\u001b[1;31mException\u001b[0m: x should not exceed 5. The value of x was: 10"
     ]
    }
   ],
   "source": [
    "x = 10\n",
    "if x > 5:\n",
    "    raise Exception(\"x should not exceed 5. The value of x was: {}\".format(x))"
   ]
  },
  {
   "cell_type": "markdown",
   "metadata": {},
   "source": [
    "Q5. What are Custom Exceptions in python? Why do we need Custom Exceptions? Explain with an example"
   ]
  },
  {
   "cell_type": "code",
   "execution_count": 7,
   "metadata": {},
   "outputs": [
    {
     "name": "stdout",
     "output_type": "stream",
     "text": [
      "Error: Insufficient balance for withdrawal of $1500. Current balance: $1000\n"
     ]
    }
   ],
   "source": [
    "class WithdrawalError(Exception):\n",
    "    \"\"\"Custom exception for handling withdrawal errors\"\"\"\n",
    "    def __init__(self, amount, balance):\n",
    "        super().__init__(\"Insufficient balance for withdrawal of ${}. Current balance: ${}\".format(amount, balance))\n",
    "        self.amount = amount\n",
    "        self.balance = balance\n",
    "\n",
    "def withdraw(balance, amount):\n",
    "    if amount > balance:\n",
    "        raise WithdrawalError(amount, balance)\n",
    "    else:\n",
    "        return balance - amount\n",
    "\n",
    "try:\n",
    "    balance = 1000\n",
    "    withdrawal_amount = 1500\n",
    "    new_balance = withdraw(balance, withdrawal_amount)\n",
    "    print(\"Withdrawal successful. New balance:\", new_balance)\n",
    "except WithdrawalError as e:\n",
    "    print(\"Error:\", e)"
   ]
  },
  {
   "cell_type": "markdown",
   "metadata": {},
   "source": [
    "Q6. Create custom exception ,class. Use this calss to handle an exception."
   ]
  },
  {
   "cell_type": "code",
   "execution_count": null,
   "metadata": {},
   "outputs": [],
   "source": [
    "class ValueTooSmallError(Exception):\n",
    "    \"\"\"Exception raised for values that are too small\"\"\"\n",
    "    def __init__(self, value, min_value):\n",
    "        self.value = value\n",
    "        self.min_value = min_value\n",
    "        super().__init__(\"The value {} is too small. Minimum value allowed is {}.\".format(value, min_value))\n",
    "\n",
    "def validate_input(value, min_value):\n",
    "    if value < min_value:\n",
    "        raise ValueTooSmallError(value, min_value)\n",
    "    else:\n",
    "        print(\"Input value {} is valid.\".format(value))\n",
    "\n",
    "\n",
    "try:\n",
    "    validate_input(5, 10)\n",
    "except ValueTooSmallError as e:\n",
    "    print(\"ValueTooSmallError:\", e)\n"
   ]
  }
 ],
 "metadata": {
  "kernelspec": {
   "display_name": "vs_etl",
   "language": "python",
   "name": "python3"
  },
  "language_info": {
   "codemirror_mode": {
    "name": "ipython",
    "version": 3
   },
   "file_extension": ".py",
   "mimetype": "text/x-python",
   "name": "python",
   "nbconvert_exporter": "python",
   "pygments_lexer": "ipython3",
   "version": "3.10.13"
  }
 },
 "nbformat": 4,
 "nbformat_minor": 2
}
