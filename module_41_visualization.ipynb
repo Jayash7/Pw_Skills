{
 "cells": [
  {
   "cell_type": "markdown",
   "metadata": {},
   "source": [
    "Q1: How can you create a Bokeh plot using Python code?"
   ]
  },
  {
   "cell_type": "markdown",
   "metadata": {},
   "source": [
    "> Import necessary modules from Bokeh.\n",
    "\n",
    "> Create a figure using figure().\n",
    "\n",
    "> Add glyphs (graphical marks) to the figure.\n",
    "\n",
    "> Show or save the plot using show() or save()."
   ]
  },
  {
   "cell_type": "code",
   "execution_count": null,
   "metadata": {},
   "outputs": [],
   "source": [
    "from bokeh.plotting import figure, show\n",
    "\n",
    "p = figure(title=\"Simple Line Plot\", x_axis_label='x', y_axis_label='y')\n",
    "p.line([1, 2, 3, 4, 5], [6, 7, 2, 4, 5], legend_label=\"Line\", line_width=2)\n",
    "show(p)\n"
   ]
  },
  {
   "cell_type": "markdown",
   "metadata": {},
   "source": [
    "Q2: What are glyphs in Bokeh, and how can you add them to a Bokeh plot? Explain with an example."
   ]
  },
  {
   "cell_type": "markdown",
   "metadata": {},
   "source": [
    "> Glyphs in Bokeh are the visual shapes that are used to represent your data, such as circles, lines, squares, etc. You can add glyphs to a Bokeh plot by calling methods on a figure object, like circle(), line(), rect(), etc."
   ]
  },
  {
   "cell_type": "code",
   "execution_count": null,
   "metadata": {},
   "outputs": [],
   "source": [
    "from bokeh.plotting import figure, show\n",
    "\n",
    "p = figure(title=\"Glyphs Example\", x_axis_label='x', y_axis_label='y')\n",
    "\n",
    "p.circle([1, 2, 3, 4, 5], [6, 7, 2, 4, 5], size=10, color=\"navy\", alpha=0.5, legend_label=\"Circles\")\n",
    "p.line([1, 2, 3, 4, 5], [6, 7, 2, 4, 5], legend_label=\"Line\", line_width=2)\n",
    "p.square([1, 2, 3, 4, 5], [5, 4, 3, 2, 1], size=10, color=\"firebrick\", legend_label=\"Squares\")\n",
    "\n",
    "show(p)\n"
   ]
  },
  {
   "cell_type": "markdown",
   "metadata": {},
   "source": [
    "Q3: How can you customize the appearance of a Bokeh plot, including the axes, title, and legend?"
   ]
  },
  {
   "cell_type": "code",
   "execution_count": null,
   "metadata": {},
   "outputs": [],
   "source": [
    "from bokeh.plotting import figure, show\n",
    "\n",
    "p = figure(title=\"Customized Plot\", x_axis_label='x', y_axis_label='y')\n",
    "\n",
    "p.title.text = \"My Custom Title\"\n",
    "p.title.align = \"center\"\n",
    "p.title.text_color = \"blue\"\n",
    "p.title.text_font_size = \"20px\"\n",
    "\n",
    "p.xaxis.axis_label = \"Custom X Axis\"\n",
    "p.xaxis.axis_label_text_color = \"green\"\n",
    "p.yaxis.axis_label = \"Custom Y Axis\"\n",
    "p.yaxis.axis_label_text_color = \"red\"\n",
    "\n",
    "p.line([1, 2, 3, 4, 5], [6, 7, 2, 4, 5], legend_label=\"Line\", line_width=2)\n",
    "p.legend.title = \"Legend Title\"\n",
    "p.legend.label_text_font_size = \"10px\"\n",
    "p.legend.background_fill_color = \"lightgray\"\n",
    "\n",
    "show(p)"
   ]
  },
  {
   "cell_type": "markdown",
   "metadata": {},
   "source": [
    "Q4: What is a Bokeh server, and how can you use it to create interactive plots that can be updated in real time?"
   ]
  },
  {
   "cell_type": "markdown",
   "metadata": {},
   "source": [
    "> A Bokeh server allows you to create interactive plots that can be updated in real time. It lets you build web applications that can push updates to and pull data from your plots."
   ]
  },
  {
   "cell_type": "code",
   "execution_count": null,
   "metadata": {},
   "outputs": [],
   "source": [
    "# main.py\n",
    "\n",
    "from bokeh.io import curdoc\n",
    "from bokeh.models import ColumnDataSource\n",
    "from bokeh.plotting import figure\n",
    "from bokeh.layouts import column\n",
    "from bokeh.models.widgets import Slider\n",
    "\n",
    "source = ColumnDataSource(data=dict(x=[1, 2, 3, 4, 5], y=[6, 7, 2, 4, 5]))\n",
    "\n",
    "plot = figure(title=\"Interactive Plot\", x_axis_label='x', y_axis_label='y')\n",
    "plot.line('x', 'y', source=source, line_width=2)\n",
    "\n",
    "slider = Slider(start=0, end=10, value=1, step=.1, title=\"Multiplier\")\n",
    "\n",
    "def update(attr, old, new):\n",
    "    factor = slider.value\n",
    "    new_data = dict(x=[1, 2, 3, 4, 5], y=[i * factor for i in [6, 7, 2, 4, 5]])\n",
    "    source.data = new_data\n",
    "\n",
    "slider.on_change('value', update)\n",
    "\n",
    "layout = column(slider, plot)\n",
    "curdoc().add_root(layout)"
   ]
  },
  {
   "cell_type": "markdown",
   "metadata": {},
   "source": [
    "Q5: How can you embed a Bokeh plot into a web page or dashboard using Flask or Django?"
   ]
  },
  {
   "cell_type": "markdown",
   "metadata": {},
   "source": [
    "> You can embed Bokeh plots into a Flask or Django web application by generating the necessary script and div elements and then rendering them in your web templates."
   ]
  },
  {
   "cell_type": "code",
   "execution_count": null,
   "metadata": {},
   "outputs": [],
   "source": [
    "# bokeh_plot.py\n",
    "\n",
    "from bokeh.plotting import figure\n",
    "from bokeh.embed import components\n",
    "\n",
    "def create_plot():\n",
    "    plot = figure(title=\"Bokeh Plot\", x_axis_label='x', y_axis_label='y')\n",
    "    plot.line([1, 2, 3, 4, 5], [6, 7, 2, 4, 5], line_width=2)\n",
    "    script, div = components(plot)\n",
    "    return script, div\n"
   ]
  },
  {
   "cell_type": "code",
   "execution_count": null,
   "metadata": {},
   "outputs": [],
   "source": [
    "# app.py\n",
    "\n",
    "from flask import Flask, render_template\n",
    "from bokeh_plot import create_plot\n",
    "\n",
    "app = Flask(__name__)\n",
    "\n",
    "@app.route('/')\n",
    "def index():\n",
    "    script, div = create_plot()\n",
    "    return render_template('index.html', script=script, div=div)\n",
    "\n",
    "if __name__ == '__main__':\n",
    "    app.run(debug=True)\n"
   ]
  },
  {
   "cell_type": "code",
   "execution_count": null,
   "metadata": {},
   "outputs": [],
   "source": [
    "<!DOCTYPE html>\n",
    "<html lang=\"en\">\n",
    "<head>\n",
    "    <meta charset=\"UTF-8\">\n",
    "    <title>Bokeh Plot</title>\n",
    "    {{ script | safe }}\n",
    "</head>\n",
    "<body>\n",
    "    <h1>My Bokeh Plot</h1>\n",
    "    {{ div | safe }}\n",
    "</body>\n",
    "</html>\n"
   ]
  }
 ],
 "metadata": {
  "language_info": {
   "name": "python"
  }
 },
 "nbformat": 4,
 "nbformat_minor": 2
}
