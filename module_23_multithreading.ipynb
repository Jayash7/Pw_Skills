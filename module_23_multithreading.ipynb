{
 "cells": [
  {
   "cell_type": "markdown",
   "metadata": {},
   "source": [
    "Q1. What is multithreading in Python? Why is it used? Name the module used to handle threads in Python."
   ]
  },
  {
   "cell_type": "markdown",
   "metadata": {},
   "source": [
    "> Multithreading is a technique where multiple threads are created within a process, allowing concurrent execution of tasks. It is used to:\n",
    "\n",
    ">Improve the performance of programs by parallelizing tasks.\n",
    "\n",
    ">Perform I/O operations concurrently, making efficient use of waiting time.\n",
    "\n",
    ">Manage multiple tasks simultaneously within a single process.\n",
    "\n",
    ">The module used to handle threads in Python is the threading module."
   ]
  },
  {
   "cell_type": "markdown",
   "metadata": {},
   "source": [
    "Q2. Why is the threading module used? Write the use of the following functions:"
   ]
  },
  {
   "cell_type": "markdown",
   "metadata": {},
   "source": [
    "> activeCount(): Returns the number of Thread objects currently alive.\n",
    "\n",
    "> currentThread(): Returns the current Thread object corresponding to the caller's thread of control.\n",
    "\n",
    "> enumerate(): Returns a list of all Thread objects currently alive."
   ]
  },
  {
   "cell_type": "markdown",
   "metadata": {},
   "source": [
    "Q3. Explain the following functions:"
   ]
  },
  {
   "cell_type": "markdown",
   "metadata": {},
   "source": [
    "> run(): The run() method defines the thread's activity and is called when the thread starts. It's the entry point for a thread.\n",
    "\n",
    "> start(): The start() method starts the thread's activity by invoking the run() method in a separate thread of control.\n",
    "\n",
    "> join(): The join() method waits for the thread to terminate. It blocks the calling thread until the thread whose join() method is called is terminated.\n",
    "\n",
    "> isAlive(): The isAlive() method checks whether the thread is still executing. It returns True if the thread is alive and False otherwise."
   ]
  },
  {
   "cell_type": "markdown",
   "metadata": {},
   "source": [
    "Q4. Write a Python program to create two threads. Thread one must print the list of squares and thread two must print the list of cubes."
   ]
  },
  {
   "cell_type": "code",
   "execution_count": null,
   "metadata": {},
   "outputs": [],
   "source": [
    "import threading\n",
    "\n",
    "def print_squares(nums):\n",
    "    for num in nums:\n",
    "        print(f\"Square of {num} is {num * num}\")\n",
    "\n",
    "def print_cubes(nums):\n",
    "    for num in nums:\n",
    "        print(f\"Cube of {num} is {num * num * num}\")\n",
    "\n",
    "numbers = [1, 2, 3, 4, 5]\n",
    "\n",
    "thread1 = threading.Thread(target=print_squares, args=(numbers,))\n",
    "thread2 = threading.Thread(target=print_cubes, args=(numbers,))\n",
    "\n",
    "thread1.start()\n",
    "thread2.start()\n",
    "\n",
    "thread1.join()\n",
    "thread2.join()\n"
   ]
  },
  {
   "cell_type": "markdown",
   "metadata": {},
   "source": [
    "Q5. State advantages and disadvantages of multithreading."
   ]
  },
  {
   "cell_type": "markdown",
   "metadata": {},
   "source": [
    "> Advantages:\n",
    "\n",
    "> Improved performance: By parallelizing tasks, multithreading can significantly improve performance, especially in I/O-bound and high-latency operations.\n",
    "\n",
    "> Resource sharing: Threads within the same process share resources such as memory, which leads to efficient memory usage.\n",
    "\n",
    ">Responsiveness: Multithreading can keep an application responsive, especially in user interfaces.\n",
    "\n",
    "> Disadvantages:\n",
    "\n",
    "> Complexity: Writing and debugging multithreaded programs can be complex and error-prone.\n",
    "\n",
    "> Race conditions: When multiple threads access shared resources concurrently, race conditions can occur if proper synchronization is not used.\n",
    "\n",
    "> GIL (Global Interpreter Lock): In Python, the GIL can limit the performance gains of multithreading for CPU-bound tasks."
   ]
  },
  {
   "cell_type": "markdown",
   "metadata": {},
   "source": [
    "Q6. Explain deadlocks and race conditions."
   ]
  },
  {
   "cell_type": "markdown",
   "metadata": {},
   "source": [
    ">Deadlocks:\n",
    "\n",
    "> A deadlock occurs when two or more threads are waiting indefinitely for resources held by each other, creating a cycle of dependencies that prevents any of them from proceeding. For example, if Thread A holds Resource 1 and waits for Resource 2 while Thread B holds Resource 2 and waits for Resource 1, a deadlock occurs.\n",
    "\n",
    ">Race Conditions:\n",
    "\n",
    "> A race condition occurs when the behavior of a program depends on the relative timing of threads' execution, leading to unpredictable results. This typically happens when multiple threads access and modify shared data without proper synchronization. For example, if two threads simultaneously increment a shared counter, the final value may not be correct due to the interleaved execution."
   ]
  }
 ],
 "metadata": {
  "kernelspec": {
   "display_name": "vs_etl",
   "language": "python",
   "name": "python3"
  },
  "language_info": {
   "name": "python",
   "version": "3.10.13"
  }
 },
 "nbformat": 4,
 "nbformat_minor": 2
}
