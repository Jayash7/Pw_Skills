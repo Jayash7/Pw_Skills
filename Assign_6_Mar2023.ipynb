{
  "cells": [
    {
      "cell_type": "markdown",
      "metadata": {},
      "source": [
        "Q1. What is Statistics?"
      ]
    },
    {
      "cell_type": "markdown",
      "metadata": {},
      "source": [
        ">Statistics is a branch of mathematics that deals with the collection, analysis, interprestation, presentation and organization of data. In data science statistics play a crucial role in providing a framework for understanding and making sense of large amount of data.\n",
        "The two main statistical methods used in data science           \n",
        " i]Descriptive statistics\n",
        "ii]Inferential  statistics"
      ]
    },
    {
      "cell_type": "markdown",
      "metadata": {},
      "source": [
        ">it is used to describle the property of data,identify pattern,Test hypothesis and make prediction.\n",
        "\n"
      ]
    },
    {
      "cell_type": "markdown",
      "metadata": {},
      "source": [
        ">a]Summerize data:By calaculating measuring the central tendency and measure of variability."
      ]
    },
    {
      "cell_type": "markdown",
      "metadata": {},
      "source": [
        ">b]Test hypothesis:Use to determine whether hypothesis about a population parameter is supported by  the  available data.\n"
      ]
    },
    {
      "cell_type": "markdown",
      "metadata": {},
      "source": [
        ">c]Identify pattern:Use to identify the pattern  in data by perfoming  exploratory data analysis,custering,classification.\n"
      ]
    },
    {
      "cell_type": "markdown",
      "metadata": {},
      "source": [
        ">d]Making preduction:Use to make preduction about the feature observation based on historical data."
      ]
    },
    {
      "cell_type": "markdown",
      "metadata": {},
      "source": [
        "Q2. Define the different types of statistics and give an example of when each type might be used.\n",
        "There are two main types."
      ]
    },
    {
      "cell_type": "markdown",
      "metadata": {},
      "source": [
        ">i]Descriptive statistics :\n",
        "It is used to summerize  and descible the main fweature of data set.provides the quntitative summery of the data and help to understand data distribution and central tendency."
      ]
    },
    {
      "cell_type": "markdown",
      "metadata": {},
      "source": [
        ">ii]Inferential  statistics:\n",
        "Use to draw concultion about a population based on a sample od data.It involves the hypothesis and making prediction about population based sample data."
      ]
    },
    {
      "cell_type": "markdown",
      "metadata": {},
      "source": [
        "Q3. What are the different types of data and how do they differ from each other? Provide an example of each type of data."
      ]
    },
    {
      "cell_type": "markdown",
      "metadata": {},
      "source": [
        ">There are four types of data:"
      ]
    },
    {
      "cell_type": "markdown",
      "metadata": {},
      "source": [
        ">a]Nominal data: It is simplest type of data that represent categories or labels.This type is cannot be order,measured,ranked.ex.Gender,bloodgroup etc."
      ]
    },
    {
      "cell_type": "markdown",
      "metadata": {},
      "source": [
        ">b]Ordinal data:The diffence between Nominal data & Ordinal data are not uniform or equal. but it can be ordered & ranked.ex.Income level,rating scale."
      ]
    },
    {
      "cell_type": "markdown",
      "metadata": {},
      "source": [
        ">c]Interval data:It has numeric scale that is evenly spaced,but it does not have zero point. The ratio cannot be calculate.ex.temp ,time,etc."
      ]
    },
    {
      "cell_type": "markdown",
      "metadata": {},
      "source": [
        ">d]Ratio data:Ratio data has a numeric scale that is evenly spaced and has a true zero point. This means that ratios can be calculated.Ex.height,age,income,etc."
      ]
    },
    {
      "cell_type": "markdown",
      "metadata": {},
      "source": [
        "Q4. Categorise the following datasets with respect to quantitative and qualitative data types:"
      ]
    },
    {
      "cell_type": "markdown",
      "metadata": {},
      "source": [
        ">(i) Grading in exam: A+, A, B+, B, C+, C, D, E\n",
        ":= Ordinal data"
      ]
    },
    {
      "cell_type": "markdown",
      "metadata": {},
      "source": [
        ">(ii) Colour of mangoes: yellow, green, orange, red\n",
        ":= Nominal data"
      ]
    },
    {
      "cell_type": "markdown",
      "metadata": {},
      "source": [
        ">(iii) Height data of a class: [178.9, 179, 179.5, 176, 177.2, 178.3, 175.8,...] := Continuous data"
      ]
    },
    {
      "cell_type": "markdown",
      "metadata": {},
      "source": [
        "\n",
        "> (iv) Number Of mangoes exported by a farm: [500, 600, 478, 672,... ] :=Discrete data"
      ]
    },
    {
      "cell_type": "markdown",
      "metadata": {},
      "source": [
        "Q5. Explain the concept of levels of measurement and give an example of a variable for each level."
      ]
    },
    {
      "cell_type": "markdown",
      "metadata": {},
      "source": [
        "> a]Nominal data: It is simplest type of data that represent categories or labels.This type is cannot be order,measured,ranked.ex.Gender,bloodgroup etc."
      ]
    },
    {
      "cell_type": "markdown",
      "metadata": {},
      "source": [
        "> b]Ordinal data:This level of measurement represents data that can be ordered or ranked but has no specific numerical value or consistent unit of measurement.ex.Income level,rating scale."
      ]
    },
    {
      "cell_type": "markdown",
      "metadata": {},
      "source": [
        "> c]Interval data:This level of measurement represents data that can be ordered and has a consistent unit of measurement,but it does not have zero point. The ratio cannot be calculate.ex.temp ,time,etc."
      ]
    },
    {
      "cell_type": "markdown",
      "metadata": {},
      "source": [
        "> d]Ratio data:This level of measurement represents data that can be ordered, has a consistent unit of measurement and has a true zero point. This means that ratios can be calculated.Ex.height,age,income,etc."
      ]
    },
    {
      "cell_type": "markdown",
      "metadata": {},
      "source": [
        "Q6. Why is it important to understand the level of measurement when analyzing data? Provide an example to illustrate your answer."
      ]
    },
    {
      "cell_type": "markdown",
      "metadata": {},
      "source": [
        ">It is important to understand the level of measurement beacuse it determine the which statistical analyses appropriate to use.Incorrect analyzing leads to the wrong conclusion &  different levels of measurement require different types of statistical analysis."
      ]
    },
    {
      "cell_type": "markdown",
      "metadata": {},
      "source": [
        "Q7. How nominal data type is different from ordinal data type."
      ]
    },
    {
      "cell_type": "markdown",
      "metadata": {},
      "source": [
        ">Nominal data is classified without a natural order/rank where as ordinal data has predetermined or natunal order."
      ]
    },
    {
      "cell_type": "markdown",
      "metadata": {},
      "source": [
        "Q8. Which type of plot can be used to display data in terms of range?"
      ]
    },
    {
      "cell_type": "markdown",
      "metadata": {},
      "source": [
        ">A box plot is a type of plot that can be used to display data in terms of range. The box plot displays the five-number summary of a dataset, including the minimum & maximum values, the median, and the first & third quartiles.The box itself represents the interquartile range which is the range between the first and third quartiles, & the \"whiskers\" represent the range of the data beyond the IQR.\n",
        "Box plots are particularly useful for displaying the range of a dataset because they allow for easy comparison of multiple datasets side-by-side. By plotting multiple box plots on the same graph, it is possible to quickly compare the ranges and distributions of multiple datasets.\n",
        "Box plots are commonly used in statistical analysis, particularly in fields such as finance, economics, and social sciences, but they can be used in any field where range is an important aspect of the data."
      ]
    },
    {
      "cell_type": "markdown",
      "metadata": {},
      "source": [
        "Q9. Describe the difference between descriptive and inferential statistics. Give an example of each type of statistics and explain how they are used."
      ]
    },
    {
      "cell_type": "markdown",
      "metadata": {},
      "source": [
        ">Descriptive statistics is the branch of statistics that involves summarizing and describing a dataset. Descriptive statistics provides a way to understand and communicate the main features of a dataset, such as the central tendency (mean, median, mode), variability (range, standard deviation), and the shape of the distribution (symmetric, skewed). Descriptive statistics are used to provide a summary of the dataset, without making any inferences about the population from which the dataset was drawn.Ex: Suppose we have a dataset that contains the heights in cm of all students in a class. We can use descriptive statistics to summarize the dataset by calculating the mean height, the median height, the standard deviation, and creating a histogram or box plot to visualize the distribution of the heights."
      ]
    },
    {
      "cell_type": "markdown",
      "metadata": {},
      "source": [
        ">Inferential statistics: Inferential statistics is the branch of statistics that involves making inferences about a population based on a sample of the population. Inferential statistics uses probability theory to estimate the likelihood that the findings from the sample generalize to the entire population. Inferential statistics are used to test hypotheses and make predictions about the population based on the sample.Ex. Suppose we want to estimate the average height of all students in a school, but we cannot measure the height of every student. We can take a random sample of students and use inferential statistics to estimate the average height of the population based on the sample. We might use a confidence interval or a hypothesis test to determine the range of possible values for the population mean height."
      ]
    },
    {
      "cell_type": "markdown",
      "metadata": {},
      "source": [
        "10]What are some common measures of central tendency and variability used in statistics? Explain how each measure can be used to describe a dataset."
      ]
    },
    {
      "cell_type": "markdown",
      "metadata": {},
      "source": [
        ">Mean: The mean is the most commonly used measure of central tendency, and it represents the average value of a dataset. It is calculated by summing all the data points and dividing by the total number of data points. The mean can be used to describe the typical value of the dataset, but it is sensitive to outliers and can be skewed by extreme values."
      ]
    },
    {
      "cell_type": "markdown",
      "metadata": {},
      "source": [
        ">Median: The median is another measure of central tendency, which represents the middle value of a dataset when the data is arranged in order. It is less sensitive to outliers than the mean and can provide a more accurate representation of the central value of a dataset when there are extreme values.\n",
        "Mode: The mode is the most frequent value in a dataset. It is useful when there is a clear peak or clustering of values in the data, but it may not be a suitable measure of central tendency when the data is spread out or multimodal."
      ]
    },
    {
      "cell_type": "markdown",
      "metadata": {},
      "source": [
        ">Range: The range is a measure of variability that represents the difference between the highest and lowest values in a dataset. It provides information about the spread of data, but it is highly sensitive to outliers and may not be a reliable measure of variability."
      ]
    },
    {
      "cell_type": "markdown",
      "metadata": {},
      "source": [
        ">Variance: The variance is a measure of variability that represents the average squared difference between each data point and the mean of the dataset. It provides information about the spread of data and is less sensitive to outliers than the range. However, it is influenced by the units of measurement used in the dataset and can be difficult to interpret."
      ]
    },
    {
      "cell_type": "markdown",
      "metadata": {},
      "source": [
        ">Standard deviation: The standard deviation is the square root of the variance and provides a more intuitive measure of variability that is expressed in the same units as the data. It is a commonly used measure of variability that provides information about the spread of data and is less sensitive to outliers than the range."
      ]
    },
    {
      "cell_type": "markdown",
      "metadata": {},
      "source": [
        "\n",
        "\n",
        "\n",
        "\n",
        "\n",
        "\n"
      ]
    }
  ],
  "metadata": {
    "kernelspec": {
      "display_name": "Python (Pyodide)",
      "language": "python",
      "name": "python"
    },
    "language_info": {
      "codemirror_mode": {
        "name": "python",
        "version": 3
      },
      "file_extension": ".py",
      "mimetype": "text/x-python",
      "name": "python",
      "nbconvert_exporter": "python",
      "pygments_lexer": "ipython3",
      "version": "3.8"
    }
  },
  "nbformat": 4,
  "nbformat_minor": 4
}
