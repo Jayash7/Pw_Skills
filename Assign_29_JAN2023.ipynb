{
 "cells": [
  {
   "cell_type": "markdown",
   "id": "57850062-4ba3-49b4-bef7-89fc177c112c",
   "metadata": {},
   "source": [
    "1. Who developed Python Programming Language?"
   ]
  },
  {
   "cell_type": "markdown",
   "id": "25e15adb-e373-4b4a-a9e5-07d48f81a895",
   "metadata": {},
   "source": [
    " > Guido Van Rossum develop the python programming language in 1989 and publicly available in 1991."
   ]
  },
  {
   "cell_type": "markdown",
   "id": "c7b6ad79-3162-4558-9c17-c8eae9c214d8",
   "metadata": {},
   "source": [
    "2. Which type Of Programming does Python support?"
   ]
  },
  {
   "cell_type": "markdown",
   "id": "c5ed97e5-4506-4b29-b68b-86df84f31699",
   "metadata": {},
   "source": [
    "> The python is Object oriented programming language"
   ]
  },
  {
   "cell_type": "markdown",
   "id": "180a035d-4b66-428a-9ba1-0a0d2bc592c3",
   "metadata": {},
   "source": [
    "> Imperative programming language in which we can specify the sequence of execution."
   ]
  },
  {
   "cell_type": "markdown",
   "id": "b7952eb2-0304-434e-8671-8b324b06f63a",
   "metadata": {},
   "source": [
    "> Functional programming where we can use mathematical or evaluating function."
   ]
  },
  {
   "cell_type": "markdown",
   "id": "3b52e0b8-4d99-410a-b6f1-086f94933e72",
   "metadata": {},
   "source": [
    "> Procedural Programming where we can write or execute step by step procedure to solve Program."
   ]
  },
  {
   "cell_type": "markdown",
   "id": "dcf8b2ac-246b-4083-b8fa-86993f16dc53",
   "metadata": {},
   "source": [
    "> Asynchronous programming in which we can write asynchronous code to handle multiple code."
   ]
  },
  {
   "cell_type": "markdown",
   "id": "0af82c2c-82fb-4ce9-a8bd-b61eab059cfe",
   "metadata": {},
   "source": [
    "> The python used in various task to perform like Website development ,Data Science,Al,Ml."
   ]
  },
  {
   "cell_type": "markdown",
   "id": "c9d12c16-cc34-4a94-9555-08fdb653d046",
   "metadata": {},
   "source": [
    "3. Is Python case sensitive when dealing with identifiers?"
   ]
  },
  {
   "cell_type": "markdown",
   "id": "927571a5-107d-46ba-a238-990645cbc751",
   "metadata": {},
   "source": [
    "> Yes, python is case sensitive when it come with identifiers like ‘a’ and ‘A’."
   ]
  },
  {
   "cell_type": "markdown",
   "id": "dfab6725-5f4a-4386-aa5c-fe97e9519a26",
   "metadata": {},
   "source": [
    "4. What is the correct extension Of the Python file?"
   ]
  },
  {
   "cell_type": "markdown",
   "id": "c31f4818-0776-496f-8b15-1ba291f86501",
   "metadata": {},
   "source": [
    ">\tThe extension of python file is .py\n",
    "\t Ex. Pwskillassign.py"
   ]
  },
  {
   "cell_type": "markdown",
   "id": "a75a2436-ff5f-42df-b1ad-a2d4b8eee91e",
   "metadata": {},
   "source": [
    "5. Is Python code compiled or interpreted?"
   ]
  },
  {
   "cell_type": "markdown",
   "id": "013594c7-5cb1-496c-9eae-c1488ed0d1cb",
   "metadata": {},
   "source": [
    "> Python is interpreted language it will execute the code line by line,Not like Java which compile into machine code and then execute."
   ]
  },
  {
   "cell_type": "markdown",
   "id": "ef8621b8-6cc7-4d96-9cde-1bcf71a0070c",
   "metadata": {},
   "source": [
    "6. Name a few blocks of code used to define in Python language?"
   ]
  },
  {
   "cell_type": "markdown",
   "id": "c9ba2970-b085-408f-a557-a6806ff76453",
   "metadata": {},
   "source": [
    "> Module, Function and class definition"
   ]
  },
  {
   "cell_type": "markdown",
   "id": "00972aff-21be-46b8-a0ad-acd469f53418",
   "metadata": {},
   "source": [
    "7. State a character used to give single-line comments in Python?"
   ]
  },
  {
   "cell_type": "markdown",
   "id": "89b857b2-bca1-4a29-839e-f83a8f1bcdb1",
   "metadata": {},
   "source": [
    "> To give single line comment # character is use."
   ]
  },
  {
   "cell_type": "markdown",
   "id": "093d8509-66cb-454a-8f28-87a52064c8ec",
   "metadata": {},
   "source": [
    "8. Mention functions which can help us to find the version of python that we are currently working on?"
   ]
  },
  {
   "cell_type": "markdown",
   "id": "6feebca3-148f-4444-9053-f83592b59736",
   "metadata": {},
   "source": [
    "> 1]  sys.version()"
   ]
  },
  {
   "cell_type": "markdown",
   "id": "adad563f-65f6-4b3c-a6a3-c78feced6c3a",
   "metadata": {},
   "source": [
    "> 2]  python_version()"
   ]
  },
  {
   "cell_type": "markdown",
   "id": "07cc8eee-8ce5-40ef-9b27-1777d62954cb",
   "metadata": {},
   "source": [
    "> 3]  py – version"
   ]
  },
  {
   "cell_type": "markdown",
   "id": "ba8a5ac0-c813-436e-8774-47b87effc0d4",
   "metadata": {},
   "source": [
    "9. Python supports the creation Of anonymous functions at runtime, using a construct called"
   ]
  },
  {
   "cell_type": "markdown",
   "id": "de109dc2-0512-4e84-aae3-d00405ec4546",
   "metadata": {},
   "source": [
    "> Lambda"
   ]
  },
  {
   "cell_type": "markdown",
   "id": "2aa813f3-b2d1-46f0-8c7d-3a001e9b9d66",
   "metadata": {},
   "source": [
    "10. What does pip stand for python?"
   ]
  },
  {
   "cell_type": "markdown",
   "id": "867f4af3-685a-4dd3-b0e2-ccb85f3abc81",
   "metadata": {},
   "source": [
    ">  Pip stands for Preferred installer program."
   ]
  },
  {
   "cell_type": "markdown",
   "id": "81eeab17-e76a-4abf-812e-94ce958df78f",
   "metadata": {},
   "source": [
    "11. Mention a few built—in functions in python?"
   ]
  },
  {
   "cell_type": "markdown",
   "id": "36d1c508-d61b-4082-be8d-cf78a2942f14",
   "metadata": {},
   "source": [
    "> 1.print()"
   ]
  },
  {
   "cell_type": "markdown",
   "id": "f716728d-7e15-4775-939a-316839f3f274",
   "metadata": {},
   "source": [
    "> 2.type()"
   ]
  },
  {
   "cell_type": "markdown",
   "id": "7c0fbbab-9ad8-4f40-abbb-0ca15f47bab0",
   "metadata": {},
   "source": [
    "> 3.max()"
   ]
  },
  {
   "cell_type": "markdown",
   "id": "5c20862b-8b57-437b-927b-a46444ee2a97",
   "metadata": {},
   "source": [
    "> 4.min()"
   ]
  },
  {
   "cell_type": "markdown",
   "id": "5b91ff83-5217-496e-bc9e-bdbc78e1bf99",
   "metadata": {},
   "source": [
    "> 5.def()"
   ]
  },
  {
   "cell_type": "markdown",
   "id": "284c1b0f-e9de-486d-a13c-2eb3da044203",
   "metadata": {},
   "source": [
    "> 6.input()"
   ]
  },
  {
   "cell_type": "markdown",
   "id": "5f39e26c-7df2-478e-a0ce-773bcf5362ec",
   "metadata": {},
   "source": [
    "> 7.sorted()"
   ]
  },
  {
   "cell_type": "markdown",
   "id": "59d35c7a-cc23-42ac-903f-e8dbee93c5b5",
   "metadata": {},
   "source": [
    "12. What is the maximum possible length of an identifier in Python?"
   ]
  },
  {
   "cell_type": "markdown",
   "id": "177ac997-fe6f-4351-801c-531066644160",
   "metadata": {},
   "source": [
    "> The maximum length is of 79 characters."
   ]
  },
  {
   "cell_type": "markdown",
   "id": "1350141f-4825-4689-b4ac-9cb144e18047",
   "metadata": {},
   "source": [
    "13. What are the benefits of using Python?"
   ]
  },
  {
   "cell_type": "markdown",
   "id": "0758363b-daa7-45b4-acbd-67353cc1e5cf",
   "metadata": {},
   "source": [
    "> Using python we can develop websites and software, task automation, data science, data visualization."
   ]
  },
  {
   "cell_type": "markdown",
   "id": "91a7ab26-b53e-456a-a172-5d36c5fd9a5e",
   "metadata": {},
   "source": [
    "14. How is memory managed in Python?"
   ]
  },
  {
   "cell_type": "markdown",
   "id": "975ba253-9e07-45e2-a00a-c212d9539d53",
   "metadata": {},
   "source": [
    "> Python involves a private heap containing all python objects and data structure."
   ]
  },
  {
   "cell_type": "markdown",
   "id": "d02c4b6b-b448-4a4e-8ec3-56c5d6f94e00",
   "metadata": {},
   "source": [
    "> Python user a portion of the memory for internal use & non-object memory."
   ]
  },
  {
   "cell_type": "markdown",
   "id": "63354c02-375b-44c7-ab42-8759620b9a6c",
   "metadata": {},
   "source": [
    "15. How to install Python on Windows and set path variables?"
   ]
  },
  {
   "cell_type": "markdown",
   "id": "2f0e6404-2960-474d-85ab-9a048b065109",
   "metadata": {},
   "source": [
    "> Go to the python.org web site and find python Msi installer and download."
   ]
  },
  {
   "cell_type": "markdown",
   "id": "14316e88-e7f7-4628-b094-e540baa333a4",
   "metadata": {},
   "source": [
    "> Press Win + R to open the run dialog box type sysdm.cpl to open system properties"
   ]
  },
  {
   "cell_type": "markdown",
   "id": "4994c277-7c65-407c-a91c-e245959de84b",
   "metadata": {},
   "source": [
    "> Go to advance tab and then click to environment variable under  user variable box,click on new and add path of python application where you install."
   ]
  },
  {
   "cell_type": "markdown",
   "id": "3310dcab-d2f0-4523-bb0a-4626386ecdb1",
   "metadata": {},
   "source": [
    "16. Is indentation required in python?"
   ]
  },
  {
   "cell_type": "markdown",
   "id": "793484b1-6dcc-4c82-b3cd-243dd73cf615",
   "metadata": {},
   "source": [
    "> Yes, Indentation is mandatory in python to define the blocks of code."
   ]
  }
 ],
 "metadata": {
  "kernelspec": {
   "display_name": "Python 3 (ipykernel)",
   "language": "python",
   "name": "python3"
  },
  "language_info": {
   "codemirror_mode": {
    "name": "ipython",
    "version": 3
   },
   "file_extension": ".py",
   "mimetype": "text/x-python",
   "name": "python",
   "nbconvert_exporter": "python",
   "pygments_lexer": "ipython3",
   "version": "3.10.8"
  }
 },
 "nbformat": 4,
 "nbformat_minor": 5
}
