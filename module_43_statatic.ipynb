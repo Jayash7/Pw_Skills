{
 "cells": [
  {
   "cell_type": "markdown",
   "metadata": {},
   "source": [
    "Q1. What are the three measures of central tendency?"
   ]
  },
  {
   "cell_type": "markdown",
   "metadata": {},
   "source": [
    "> Mean: The average of all the data points.\n",
    "\n",
    "> Median: The middle value when the data points are arranged in ascending or descending order.\n",
    "\n",
    "> Mode: The value that appears most frequently in the data set."
   ]
  },
  {
   "cell_type": "markdown",
   "metadata": {},
   "source": [
    "Q2. What is the difference between the mean, median, and mode? How are they used to measure the central tendency of a dataset?"
   ]
  },
  {
   "cell_type": "markdown",
   "metadata": {},
   "source": [
    "> Mean: The mean is calculated by adding all the numbers in the dataset and dividing by the number of data points. It is useful for datasets without extreme values, as it is sensitive to outliers.\n",
    "\n",
    "> Median: The median is the middle value of a dataset when it is ordered. If there is an even number of observations, the median is the average of the two middle numbers. It is useful when the dataset has outliers or is skewed, as it is not affected by extreme values.\n",
    "\n",
    "> Mode: The mode is the most frequently occurring value in a dataset. It is useful for categorical data and for understanding the most common value in a dataset."
   ]
  },
  {
   "cell_type": "markdown",
   "metadata": {},
   "source": [
    "Q3. Measure the three measures of central tendency for the given height data: [178,177,176,177,178.2,178,175,179,180,175,178.9,176.2,177,172.5,178,176.5]"
   ]
  },
  {
   "cell_type": "markdown",
   "metadata": {},
   "source": [
    "Mean:\n",
    "Mean = (178+177+176+177+178.2+178+175+179+180+175+178.9+176.2+177+172.5+178+176.5)/16\n",
    "= 2830.3/16  \n",
    "=176.89375\n",
    "\n",
    "\n",
    "Median:\n",
    "Sorted data = [172.5,175,175,176,176.2,176.5,177,177,177,177,178,178,178,178.2,178.9,179,180]\n",
    "\n",
    "The median is the average of the 8th and 9th values:\n",
    "\n",
    "Median = (177+177)/2 = 177\n",
    "\n",
    "Mode: \n",
    "Mode=177 (appears most frequently)"
   ]
  },
  {
   "cell_type": "markdown",
   "metadata": {},
   "source": [
    "Q4. Find the standard deviation for the given data:"
   ]
  },
  {
   "cell_type": "markdown",
   "metadata": {},
   "source": [
    "178,177,176,177,178.2,178,175,179,180,175,178.9,176.2,177,172.5,178,176.5\n",
    "\n",
    "First, calculate the mean:\n",
    "\n",
    "Mean = 177.26875\n",
    "\n",
    "Next, calculate the squared differences from the mean:\n",
    "\n",
    "∑(height−mean)2 = 66.633125\n",
    "\n",
    "Then, calculate the variance:\n",
    "\n",
    "Variance=(∑(height−mean)2)/𝑁\n",
    "=66.633125 /16 = 4.16457\n",
    "\n",
    "Finally, calculate the standard deviation:\n",
    "\n",
    "Standard Deviation = 2.04"
   ]
  },
  {
   "cell_type": "markdown",
   "metadata": {},
   "source": [
    "Q5. How are measures of dispersion such as range, variance, and standard deviation used to describe the spread of a dataset? Provide an example."
   ]
  },
  {
   "cell_type": "markdown",
   "metadata": {},
   "source": [
    "> Range: The difference between the maximum and minimum values in the dataset. It provides a basic measure of how spread out the data is.\n",
    "\n",
    "> Variance: The average of the squared differences from the mean. It gives a sense of how data points differ from the mean.\n",
    "\n",
    "> Standard Deviation: The square root of the variance. It indicates the average amount by which data points differ from the mean."
   ]
  },
  {
   "cell_type": "markdown",
   "metadata": {},
   "source": [
    "For the dataset [4, 8, 6, 5, 3, 9]:\n",
    "- Range: (9 - 3 = 6)\n",
    "- Mean: (frac{4+8+6+5+3+9}{6} = 5.83)\n",
    "- Variance: (frac{(4-5.83)^2 + (8-5.83)^2 + ldots + (9-5.83)^2}{6} approx 4.97)\n",
    "- Standard Deviation: (sqrt{4.97} approx 2.23)"
   ]
  },
  {
   "cell_type": "markdown",
   "metadata": {},
   "source": [
    "Q6. What is a Venn diagram?"
   ]
  },
  {
   "cell_type": "markdown",
   "metadata": {},
   "source": [
    "> A Venn diagram is a visual representation of the relationships between different sets. It uses circles to represent sets and their overlaps to show common elements between them.\n"
   ]
  },
  {
   "cell_type": "markdown",
   "metadata": {},
   "source": [
    "Q7. For the two given sets A = (2,3,4,5,6,7) & B = (0,2,6,8,10), find:"
   ]
  },
  {
   "cell_type": "markdown",
   "metadata": {},
   "source": [
    "(i) (A ∩ B) (Intersection):\n",
    "A ∩ B = {2, 6}\n",
    "\n",
    "(ii) (A ∪ B) (Union):\n",
    "A ∪ B = {0, 2, 3, 4, 5, 6, 7, 8, 10}"
   ]
  },
  {
   "cell_type": "markdown",
   "metadata": {},
   "source": [
    "Q8. What do you understand about skewness in data?"
   ]
  },
  {
   "cell_type": "markdown",
   "metadata": {},
   "source": [
    "> Skewness refers to the asymmetry in the distribution of data.\n",
    "\n",
    "> Right-skewed (positive skew): The right tail is longer; most data points are concentrated on the left.\n",
    "\n",
    "> Left-skewed (negative skew): The left tail is longer; most data points are concentrated on the right."
   ]
  },
  {
   "cell_type": "markdown",
   "metadata": {},
   "source": [
    "Q9. If a data is right skewed then what will be the position of median with respect to mean?"
   ]
  },
  {
   "cell_type": "markdown",
   "metadata": {},
   "source": [
    "> In a right-skewed distribution, the mean is greater than the median. This is because the long tail on the right pulls the mean to the right more than the median."
   ]
  },
  {
   "cell_type": "markdown",
   "metadata": {},
   "source": [
    "Q10. Explain the difference between covariance and correlation. How are these measures used in statistical analysis?"
   ]
  },
  {
   "cell_type": "markdown",
   "metadata": {},
   "source": [
    "> Covariance: Measures the directional relationship between two variables. It indicates whether an increase in one variable corresponds to an increase or decrease in another.\n",
    "\n",
    "> Correlation: Standardizes covariance to provide a dimensionless measure of the relationship between variables. It ranges from -1 to 1, indicating the strength and direction of the linear relationship.\n",
    "\n",
    "> Covariance and correlation are used to understand relationships between variables. Correlation is preferred for comparing the strength of relationships because it is standardized."
   ]
  },
  {
   "cell_type": "markdown",
   "metadata": {},
   "source": [
    "Q11. What is the formula for calculating the sample mean? Provide an example calculation for a dataset."
   ]
  },
  {
   "cell_type": "markdown",
   "metadata": {},
   "source": [
    "The formula for calculating the sample mean (ˉx) is:\n",
    "\n",
    "x = ∑xi/n"
   ]
  },
  {
   "cell_type": "markdown",
   "metadata": {},
   "source": [
    "Q12. For a normal distribution data what is the relationship between its measure of central tendency?"
   ]
  },
  {
   "cell_type": "markdown",
   "metadata": {},
   "source": [
    "> In a normal distribution, the mean, median, and mode are all equal and located at the center of the distribution."
   ]
  },
  {
   "cell_type": "markdown",
   "metadata": {},
   "source": [
    "Q13. How is covariance different from correlation?"
   ]
  },
  {
   "cell_type": "markdown",
   "metadata": {},
   "source": [
    "> Covariance measures the directional relationship between two variables but is not standardized, so its value depends on the units of the variables. Correlation, on the other hand, standardizes covariance, providing a dimensionless measure that indicates the strength and direction of the relationship on a scale from -1 to 1."
   ]
  },
  {
   "cell_type": "markdown",
   "metadata": {},
   "source": [
    "Q14. How do outliers affect measures of central tendency and dispersion? Provide an example."
   ]
  },
  {
   "cell_type": "markdown",
   "metadata": {},
   "source": [
    "> Outliers can significantly affect measures of central tendency and dispersion:\n",
    "\n",
    "> Mean: Outliers can skew the mean, making it unrepresentative of the dataset.\n",
    "\n",
    "> Median: Less affected by outliers as it is the middle value.\n",
    "\n",
    "> Mode: Unaffected by outliers.\n",
    "\n",
    "> Range: Outliers can increase the range.\n",
    "\n",
    "> Variance and Standard Deviation: Outliers can increase these measures, indicating greater spread."
   ]
  }
 ],
 "metadata": {
  "language_info": {
   "name": "python"
  }
 },
 "nbformat": 4,
 "nbformat_minor": 2
}
