{
  "metadata": {
    "language_info": {
      "codemirror_mode": {
        "name": "python",
        "version": 3
      },
      "file_extension": ".py",
      "mimetype": "text/x-python",
      "name": "python",
      "nbconvert_exporter": "python",
      "pygments_lexer": "ipython3",
      "version": "3.8"
    },
    "kernelspec": {
      "name": "python",
      "display_name": "Python (Pyodide)",
      "language": "python"
    }
  },
  "nbformat_minor": 4,
  "nbformat": 4,
  "cells": [
    {
      "cell_type": "markdown",
      "source": "1.What are the characteristics of the tuples? Is tuple immutable?",
      "metadata": {}
    },
    {
      "cell_type": "markdown",
      "source": "> Tuples is a collection of ordered,immutable and hetrogeneous element that are group together.",
      "metadata": {}
    },
    {
      "cell_type": "markdown",
      "source": "> The element of the tuple can be numbers,strings and other objects.Characteristics are ",
      "metadata": {}
    },
    {
      "cell_type": "markdown",
      "source": "> a] Immutable",
      "metadata": {}
    },
    {
      "cell_type": "markdown",
      "source": "> b]hetrogeneous",
      "metadata": {}
    },
    {
      "cell_type": "markdown",
      "source": "> c]ordered",
      "metadata": {}
    },
    {
      "cell_type": "markdown",
      "source": ">d]indexable",
      "metadata": {}
    },
    {
      "cell_type": "markdown",
      "source": ">e]fixed lenght",
      "metadata": {}
    },
    {
      "cell_type": "markdown",
      "source": ">f]Named tuples",
      "metadata": {}
    },
    {
      "cell_type": "markdown",
      "source": ">g]packing and unpacking",
      "metadata": {}
    },
    {
      "cell_type": "markdown",
      "source": ">h]Iterable",
      "metadata": {}
    },
    {
      "cell_type": "markdown",
      "source": ">Tuples are immutable once it created it cannot be modified.",
      "metadata": {}
    },
    {
      "cell_type": "markdown",
      "source": "2. What are the two tuple methods in python? Give an example of each method. Give a reason why tuples have only two in-built methods as compared to Lists.",
      "metadata": {}
    },
    {
      "cell_type": "markdown",
      "source": "> Tuples have two method are i]count(), ii]index()\nbeacuse tuples are design to lightweight and efficient.Tuples are intended to be used for simple,fixed collection of data, where as list are intended for \nmore flexible and complex operation.Lists are more powerful and versatile.",
      "metadata": {}
    },
    {
      "cell_type": "markdown",
      "source": "3. Which collection datatypes in python do not allow duplicate items? Write a code using a set to remove duplicates from the given list.",
      "metadata": {}
    },
    {
      "cell_type": "markdown",
      "source": "> Set is not allow duplicate items.ex:-",
      "metadata": {}
    },
    {
      "cell_type": "code",
      "source": "list = [1, 1, 1, 2, 1, 3, 1, 4, 2, 1, 2, 2, 2, 3, 2,4, 3, 1, 3, 2, 3, 3, 3, 4, 4, 1, 4, 2, 4, 3, 4, 4]\nlis_op=set(list)\nprint(lis_op)",
      "metadata": {
        "trusted": true
      },
      "execution_count": 4,
      "outputs": [
        {
          "name": "stdout",
          "text": "{1, 2, 3, 4}\n",
          "output_type": "stream"
        }
      ]
    },
    {
      "cell_type": "markdown",
      "source": "4. Explain the difference between the union() and update() methods for a set. Give an example of each method.",
      "metadata": {}
    },
    {
      "cell_type": "markdown",
      "source": "> Union method used to return the union of he set and set of element from one or more iterable like string,list,set without duplicate and create new set.",
      "metadata": {}
    },
    {
      "cell_type": "code",
      "source": "a={1,2,3,4}\nb={4,5,6,7}\nc=a.union(b)\nprint(c)",
      "metadata": {
        "trusted": true
      },
      "execution_count": 8,
      "outputs": [
        {
          "name": "stdout",
          "text": "{1, 2, 3, 4, 5, 6, 7}\n",
          "output_type": "stream"
        }
      ]
    },
    {
      "cell_type": "markdown",
      "source": ">Update method add all element from one set to another set and modify orignal set.",
      "metadata": {}
    },
    {
      "cell_type": "code",
      "source": "a= {1,2,3,4,5,6}\nb={4,5,6,7,8,9}\na.update(b)\nprint(a)",
      "metadata": {
        "trusted": true
      },
      "execution_count": 13,
      "outputs": [
        {
          "name": "stdout",
          "text": "{1, 2, 3, 4, 5, 6, 7, 8, 9}\n",
          "output_type": "stream"
        }
      ]
    },
    {
      "cell_type": "markdown",
      "source": "5. What is a dictionary? Give an example. Also, state whether a dictionary is ordered or unordered.",
      "metadata": {}
    },
    {
      "cell_type": "markdown",
      "source": ">Dictionary is collection of keys and items or values pair.\n>The keys used to index the values and each key must be unique.\n>Dictionary are unordered.Item have no inherent order and not store in perticular order.ex:",
      "metadata": {}
    },
    {
      "cell_type": "code",
      "source": "a= {'name':'Roshan','age':20} \nprint(a)",
      "metadata": {
        "trusted": true
      },
      "execution_count": 15,
      "outputs": [
        {
          "name": "stdout",
          "text": "{'name': 'Roshan', 'age': 20}\n",
          "output_type": "stream"
        }
      ]
    },
    {
      "cell_type": "markdown",
      "source": "6. Can we create a nested dictionary? If so, please give an example by creating a simple one-level nested dictionary.",
      "metadata": {}
    },
    {
      "cell_type": "markdown",
      "source": ">Yes,we can create nested dictionary ",
      "metadata": {}
    },
    {
      "cell_type": "code",
      "source": "dic={'student1':{'name':'Akash','age':23},\n    'student2':{'name':'Roshan','age':24}}\nprint(dic)",
      "metadata": {
        "trusted": true
      },
      "execution_count": 17,
      "outputs": [
        {
          "name": "stdout",
          "text": "{'student1': {'name': 'Akash', 'age': 23}, 'student2': {'name': 'Roshan', 'age': 24}}\n",
          "output_type": "stream"
        }
      ]
    },
    {
      "cell_type": "markdown",
      "source": "7. Using setdefault() method, create key named topics in the given dictionary and also add the value of the key as this list [Python', 'Machine Learning', 'Deep Learning']",
      "metadata": {}
    },
    {
      "cell_type": "code",
      "source": "dict1 = {'language' : 'python', 'course': 'Data Science Masters'}\ndict1.setdefault('topic',['Python', 'Machine Learning', 'Deep Learning'])\nprint(dict1)",
      "metadata": {
        "trusted": true
      },
      "execution_count": 25,
      "outputs": [
        {
          "name": "stdout",
          "text": "{'language': 'python', 'course': 'Data Science Masters', 'topic': ['Python', 'Machine Learning', 'Deep Learning']}\n",
          "output_type": "stream"
        }
      ]
    },
    {
      "cell_type": "markdown",
      "source": "8. What are the three view objects in dictionaries? Use the three in-built methods in python to display these three view objects for the given dictionary.",
      "metadata": {}
    },
    {
      "cell_type": "markdown",
      "source": ">There are three view object are in there:",
      "metadata": {}
    },
    {
      "cell_type": "markdown",
      "source": ">a] keys() -It return all list of keys in the dictionary.",
      "metadata": {}
    },
    {
      "cell_type": "markdown",
      "source": ">b] values() -It return all list of values in the dictionary.",
      "metadata": {}
    },
    {
      "cell_type": "markdown",
      "source": ">c] items() -It return all list of keys and items in pair of the dictionary.",
      "metadata": {}
    },
    {
      "cell_type": "code",
      "source": "dictl = {'Sport': 'Cricket' , 'Teams': ['India', 'Australia', 'England', 'South Africa', 'Sri Lanka', 'New Zealand']}",
      "metadata": {
        "trusted": true
      },
      "execution_count": 29,
      "outputs": []
    },
    {
      "cell_type": "code",
      "source": "dictl.keys()",
      "metadata": {
        "trusted": true
      },
      "execution_count": 30,
      "outputs": [
        {
          "execution_count": 30,
          "output_type": "execute_result",
          "data": {
            "text/plain": "dict_keys(['Sport', 'Teams'])"
          },
          "metadata": {}
        }
      ]
    },
    {
      "cell_type": "code",
      "source": "dict1.values()",
      "metadata": {
        "trusted": true
      },
      "execution_count": 31,
      "outputs": [
        {
          "execution_count": 31,
          "output_type": "execute_result",
          "data": {
            "text/plain": "dict_values(['python', 'Data Science Masters', ['Python', 'Machine Learning', 'Deep Learning']])"
          },
          "metadata": {}
        }
      ]
    },
    {
      "cell_type": "code",
      "source": "dict1.items()",
      "metadata": {
        "trusted": true
      },
      "execution_count": 32,
      "outputs": [
        {
          "execution_count": 32,
          "output_type": "execute_result",
          "data": {
            "text/plain": "dict_items([('language', 'python'), ('course', 'Data Science Masters'), ('topic', ['Python', 'Machine Learning', 'Deep Learning'])])"
          },
          "metadata": {}
        }
      ]
    }
  ]
}