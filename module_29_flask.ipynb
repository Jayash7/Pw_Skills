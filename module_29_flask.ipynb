{
 "cells": [
  {
   "cell_type": "markdown",
   "metadata": {},
   "source": [
    "Q1. Explain GET and POST methods."
   ]
  },
  {
   "cell_type": "markdown",
   "metadata": {},
   "source": [
    "> GET Method:\n",
    "\n",
    "> Purpose: Used to request data from a specified resource.\n",
    "\n",
    "> Usage: When a client wants to retrieve data from the server.\n",
    "\n",
    "> Characteristics:\n",
    "Appends data to the URL.\n",
    "Can be bookmarked.\n",
    "Generally used for fetching and reading data.\n",
    "Limited data length due to URL length constraints.\n",
    "Parameters are visible in the URL, making it less secure for sensitive data.\n",
    "\n",
    "> POST Method:\n",
    "\n",
    "> Purpose: Used to send data to the server to create/update a resource.\n",
    "\n",
    "> Usage: When a client wants to send data to the server.\n",
    "\n",
    "> Characteristics:\n",
    "Sends data in the body of the request.\n",
    "Cannot be bookmarked.\n",
    "Generally used for submitting forms or uploading files.\n",
    "No size limitations on the data being sent.\n",
    "More secure for transmitting sensitive data."
   ]
  },
  {
   "cell_type": "markdown",
   "metadata": {},
   "source": [
    "Q2. Why is request used in Flask?"
   ]
  },
  {
   "cell_type": "markdown",
   "metadata": {},
   "source": [
    ">The request object in Flask is used to handle incoming HTTP requests. It contains all the information about the request made to the server, including:\n",
    "\n",
    ">Request method (GET, POST, etc.)\n",
    "URL and headers\n",
    "Form data and JSON payload\n",
    "Cookies and files\n",
    "It allows developers to access and manipulate request data easily, enabling dynamic response generation based on user inputs."
   ]
  },
  {
   "cell_type": "markdown",
   "metadata": {},
   "source": [
    "Q3. Why is redirect() used in Flask?"
   ]
  },
  {
   "cell_type": "markdown",
   "metadata": {},
   "source": [
    "> The redirect() function in Flask is used to redirect the user to a different endpoint. This is useful for:\n",
    "\n",
    "> Redirecting after a form submission to prevent resubmission on page reload.\n",
    "\n",
    "> Navigating to another route after an action is completed.\n",
    "\n",
    "> Handling unauthorized access by redirecting to a login page."
   ]
  },
  {
   "cell_type": "markdown",
   "metadata": {},
   "source": [
    "Q4. What are templates in Flask? Why is the render_template() function used?"
   ]
  },
  {
   "cell_type": "markdown",
   "metadata": {},
   "source": [
    "> Templates in Flask are used to create dynamic HTML content.\n",
    "\n",
    "> They allow for the separation of HTML from Python code, promoting a clean and maintainable structure.\n",
    "\n",
    "> Flask uses Jinja2 as its templating engine, which supports template inheritance, variables, loops, and conditionals.\n",
    "render_template():\n",
    "\n",
    "> The render_template() function is used to render HTML templates and return them to the client.\n",
    "\n",
    "> It takes the name of the template file and any context variables to pass to the template.\n",
    "\n",
    "> This function makes it easy to generate HTML dynamically based on the data provided."
   ]
  },
  {
   "cell_type": "markdown",
   "metadata": {},
   "source": [
    "Q5. Create a simple API. Use Postman to test it. Attach the screenshot of the output in the Jupyter Notebook."
   ]
  },
  {
   "cell_type": "code",
   "execution_count": null,
   "metadata": {},
   "outputs": [],
   "source": [
    "from flask import Flask, jsonify, request\n",
    "\n",
    "app = Flask(__name__)\n",
    "\n",
    "@app.route('/api/data', methods=['GET'])\n",
    "def get_data():\n",
    "    return jsonify({\"message\": \"This is a GET request\"})\n",
    "\n",
    "@app.route('/api/data', methods=['POST'])\n",
    "def post_data():\n",
    "    data = request.json\n",
    "    return jsonify({\"message\": \"Data received\", \"data\": data})\n",
    "\n",
    "if __name__ == \"__main__\":\n",
    "    app.run(debug=True)\n"
   ]
  }
 ],
 "metadata": {
  "kernelspec": {
   "display_name": "vs_etl",
   "language": "python",
   "name": "python3"
  },
  "language_info": {
   "name": "python",
   "version": "3.10.13"
  }
 },
 "nbformat": 4,
 "nbformat_minor": 2
}
