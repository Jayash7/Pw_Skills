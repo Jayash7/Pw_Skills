{
 "cells": [
  {
   "cell_type": "markdown",
   "id": "a0a1df1a-fcfa-4e06-a37e-6fa90a9be551",
   "metadata": {},
   "source": [
    "1. Write a program to accept percentage from the user and display the grade according to the following criteria:"
   ]
  },
  {
   "cell_type": "code",
   "execution_count": 13,
   "id": "aef4660d-d750-4b22-9772-0807d943db44",
   "metadata": {},
   "outputs": [
    {
     "name": "stdin",
     "output_type": "stream",
     "text": [
      "Enter the percentage of student 82.78\n"
     ]
    },
    {
     "name": "stdout",
     "output_type": "stream",
     "text": [
      "The student grade is B\n"
     ]
    }
   ],
   "source": [
    "percentage = float(input('Enter the percentage of student'))\n",
    "if percentage>90:\n",
    "    print('The student grade is {}'.format('A'))\n",
    "elif percentage>80 and percentage<=90:\n",
    "    print('The student grade is {}'.format('B'))\n",
    "elif percentage>=60 and percentage<=80:\n",
    "    print('The student grade is {}'.format('C'))\n",
    "else:\n",
    "    print('The student grade is {}'.format('D'))"
   ]
  },
  {
   "cell_type": "markdown",
   "id": "6156b0a4-d018-49ba-b4d6-18b6c87fd22a",
   "metadata": {},
   "source": [
    "2. Write a program to accept the cost price of a bike and display the raod tax to be paid according to the following criteria:"
   ]
  },
  {
   "cell_type": "code",
   "execution_count": 4,
   "id": "9ff538cc-d34f-4677-9154-7cb38f20e16e",
   "metadata": {},
   "outputs": [
    {
     "name": "stdin",
     "output_type": "stream",
     "text": [
      "Enter the price of the bike 1000000000\n"
     ]
    },
    {
     "name": "stdout",
     "output_type": "stream",
     "text": [
      "The road tax is 150000000.0\n"
     ]
    }
   ],
   "source": [
    "price = float(input('Enter the price of the bike'));\n",
    "if price>100000:\n",
    "    print('The road tax is {}'.format(price-(price*0.85)))\n",
    "elif price>50000 and price<=100000:\n",
    "    print('The road tax is {}'.format(price-(price*0.90)))\n",
    "else:\n",
    "    print('The road tax is {}'.format(price-(price*0.95)))"
   ]
  },
  {
   "cell_type": "markdown",
   "id": "98f3c755-1ef4-4fc2-baec-bfe75a623ef7",
   "metadata": {},
   "source": [
    "3. Accept any city from the user and display monuments of that city."
   ]
  },
  {
   "cell_type": "code",
   "execution_count": 5,
   "id": "47d1a4b5-da3e-450c-b6c5-5f9ca3783f65",
   "metadata": {},
   "outputs": [
    {
     "name": "stdin",
     "output_type": "stream",
     "text": [
      "Enter the city Agra\n"
     ]
    },
    {
     "name": "stdout",
     "output_type": "stream",
     "text": [
      "The Monument is Taj Mahal\n"
     ]
    }
   ],
   "source": [
    "city=(input('Enter the city'))\n",
    "a = city.upper()\n",
    "if a =='DELHI':\n",
    "    print('The monument is {}'.format('Red fort'))\n",
    "elif a=='AGRA':\n",
    "    print('The Monument is {}'.format('Taj Mahal'))\n",
    "elif a=='JAIPUR':\n",
    "    print('The Monument is {}'.format('JAL MAHAL'))"
   ]
  },
  {
   "cell_type": "markdown",
   "id": "9a3e121e-6136-4a31-8f67-b20a7c380658",
   "metadata": {},
   "source": [
    "4. Check how many times a given number can be divided by 3 before it is less than or equal to 10."
   ]
  },
  {
   "cell_type": "code",
   "execution_count": 6,
   "id": "bf35918b-5d92-431d-bdd4-86aeb608ea85",
   "metadata": {},
   "outputs": [
    {
     "name": "stdin",
     "output_type": "stream",
     "text": [
      "Enter the number 90\n"
     ]
    },
    {
     "name": "stdout",
     "output_type": "stream",
     "text": [
      "3\n"
     ]
    }
   ],
   "source": [
    " number = int (input('Enter the number'));\n",
    "count=0\n",
    "while number>=10:\n",
    "    number= number/3\n",
    "    count+=1\n",
    "print(count)"
   ]
  },
  {
   "cell_type": "markdown",
   "id": "670b355c-f092-4ac3-be2a-78ad82be7418",
   "metadata": {},
   "source": [
    "5. Why and When to Use while Loop in Python give a detailed description with example."
   ]
  },
  {
   "cell_type": "markdown",
   "id": "d3731a9d-e30a-4f7a-a41e-f208c7b70603",
   "metadata": {},
   "source": [
    "While loop is when we want to repeat condition until the condtion is true.\n",
    " Condition is boolean expression that must be true for loop to continue executing.Once the condition is false loop will terminate and program continue with code.\n",
    "ex."
   ]
  },
  {
   "cell_type": "code",
   "execution_count": 9,
   "id": "ab6f7c63-ef06-422a-b6d3-0e3323b915df",
   "metadata": {},
   "outputs": [
    {
     "name": "stdout",
     "output_type": "stream",
     "text": [
      "1\n",
      "2\n",
      "3\n",
      "4\n",
      "5\n",
      "6\n",
      "7\n",
      "8\n",
      "9\n",
      "10\n"
     ]
    }
   ],
   "source": [
    "# Syntax is 'WHILE'\n",
    "count = 1\n",
    "while count <= 10:\n",
    "    print(count)\n",
    "    count += 1"
   ]
  },
  {
   "cell_type": "markdown",
   "id": "025a3b4f-0b39-43c2-ae4e-650d3983f8b0",
   "metadata": {},
   "source": [
    "6. Use nested while loop to print 3 different pattern."
   ]
  },
  {
   "cell_type": "markdown",
   "id": "b94aa517-37dd-4e49-b401-46a531786b78",
   "metadata": {},
   "source": [
    "a]"
   ]
  },
  {
   "cell_type": "code",
   "execution_count": 1,
   "id": "d418c658-31ed-442f-a0b7-4bceaf7a31cd",
   "metadata": {},
   "outputs": [
    {
     "name": "stdout",
     "output_type": "stream",
     "text": [
      "\n",
      "* \n",
      "* * \n",
      "* * * \n",
      "* * * * \n",
      "* * * * * \n",
      "* * * * * * \n",
      "* * * * * * * \n",
      "* * * * * * * * \n"
     ]
    }
   ],
   "source": [
    "a =10\n",
    "for i in range(1,a):\n",
    "    for j in  range(1,i):\n",
    "        print('* ',end='')\n",
    "    print('\\r')"
   ]
  },
  {
   "cell_type": "markdown",
   "id": "2a3fdf35-6d52-4de8-90c3-a1d6ab69e6d8",
   "metadata": {},
   "source": [
    "b]"
   ]
  },
  {
   "cell_type": "code",
   "execution_count": 2,
   "id": "d69254fc-be74-4107-9c03-3fc62ae1c518",
   "metadata": {},
   "outputs": [
    {
     "name": "stdout",
     "output_type": "stream",
     "text": [
      "\n",
      " * * * * * * *\n",
      " * * * * * *\n",
      " * * * * *\n",
      " * * * *\n",
      " * * *\n",
      " * *\n",
      " *\n",
      "\n"
     ]
    }
   ],
   "source": [
    "a =10\n",
    "k=a-1\n",
    "for i in range(1,a):\n",
    "    print('\\r')\n",
    "    for j in  range(i,k-1):\n",
    "        print(' *',end='')"
   ]
  },
  {
   "cell_type": "markdown",
   "id": "96a0ffa8-f54f-40c5-97b0-c48cd4489d7d",
   "metadata": {},
   "source": [
    "c]"
   ]
  },
  {
   "cell_type": "code",
   "execution_count": 1,
   "id": "cdd56199-373c-4d53-bdd6-c8ff5e884729",
   "metadata": {},
   "outputs": [
    {
     "name": "stdout",
     "output_type": "stream",
     "text": [
      "          *\n",
      "         * *\n",
      "        * * *\n",
      "       * * * *\n",
      "      * * * * *\n",
      "     * * * * * *\n",
      "    * * * * * * *\n",
      "   * * * * * * * *\n",
      "  * * * * * * * * *\n",
      " * * * * * * * * * *\n"
     ]
    }
   ],
   "source": [
    "a =10\n",
    "k=a-1\n",
    "for i in range(0,a):\n",
    "    for j in  range(0,k):\n",
    "        print(end=' ')\n",
    "    k=k-1\n",
    "    for j in range(0,i+1):\n",
    "        print(' *',end='')\n",
    "    print('\\r')"
   ]
  },
  {
   "cell_type": "markdown",
   "id": "d66bb06c-0751-4d40-b289-4fa233846373",
   "metadata": {},
   "source": [
    "7. Reverse a while loop to display numbers from 10 to 1."
   ]
  },
  {
   "cell_type": "code",
   "execution_count": 4,
   "id": "bdd3a9df-d72f-4ddc-948b-1c7db6185418",
   "metadata": {},
   "outputs": [
    {
     "name": "stdout",
     "output_type": "stream",
     "text": [
      "10\n",
      "9\n",
      "8\n",
      "7\n",
      "6\n",
      "5\n",
      "4\n",
      "3\n",
      "2\n",
      "1\n"
     ]
    }
   ],
   "source": [
    "count= 10\n",
    "while 1<=count:\n",
    "    print(count)\n",
    "    count-=1"
   ]
  }
 ],
 "metadata": {
  "kernelspec": {
   "display_name": "Python 3 (ipykernel)",
   "language": "python",
   "name": "python3"
  },
  "language_info": {
   "codemirror_mode": {
    "name": "ipython",
    "version": 3
   },
   "file_extension": ".py",
   "mimetype": "text/x-python",
   "name": "python",
   "nbconvert_exporter": "python",
   "pygments_lexer": "ipython3",
   "version": "3.10.8"
  }
 },
 "nbformat": 4,
 "nbformat_minor": 5
}
