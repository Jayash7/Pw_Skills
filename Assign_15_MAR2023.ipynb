{
  "metadata": {
    "language_info": {
      "name": ""
    },
    "kernelspec": {
      "name": "python",
      "display_name": "Python (Pyodide)",
      "language": "python"
    }
  },
  "nbformat_minor": 4,
  "nbformat": 4,
  "cells": [
    {
      "cell_type": "markdown",
      "source": "Q1: Explain the following with an example:",
      "metadata": {}
    },
    {
      "cell_type": "markdown",
      "source": "1. Artificial Intelligence :-\nAI refers to the ability of machine to perform tasks that requried human inteligence,such as understanding of natural language, recorginizing objects in image and make decision. AL system can train from experience and adapt to new sistuation,making them increasingly sopfisticated over time.\nEx: An AI powered virtual assistance like Seri and alexa that can understand and responce voice command ,set reminder,play music,answer questions and even control home smart devices.",
      "metadata": {}
    },
    {
      "cell_type": "markdown",
      "source": "2. Machine Learning :-\nMachine learning is subset of AI that involves teaching computer to learn from data without being explicitly programmed.ML algorithm use statistical techniques to identitfy patter in data and make predictions or decision based on those pattern.\nEx: A spam filter the ML to learn from a user's email history and identify which massage is likly to be spam,based on the feature like sender,subject line,content. \n",
      "metadata": {}
    },
    {
      "cell_type": "markdown",
      "source": "3. Deep Learning:-\nDeep learning is a subset of ML that involves using neural network to learn from large amount of data.Deep learning algorithm are design to automatically learn hierachical representation of data to identify increasing complex pattern and features.\nEx: A self- driving car that uses deep learing to analaysing real-time vedio feeds from camera and sensors, enabling to identify and respond to road signs,other vehicals,and obstracals in its environment.\n",
      "metadata": {}
    },
    {
      "cell_type": "markdown",
      "source": "Q2: What is supervised learning? List some examples of supervised learning.",
      "metadata": {}
    },
    {
      "cell_type": "markdown",
      "source": ">Superviced learning is type of machine learnig in which an algorithm can be trained on labeled data,meaning the data included both input feature and output leabels.The goal of supervised learning is to predict the output for new,unseen input based on the pattern learning from the labels data.\nEx: Image classification,spam filterning,medical diagnosis,language translation,creadit list analysis,predective maintenance.\n",
      "metadata": {}
    },
    {
      "cell_type": "markdown",
      "source": "Q3: What is unsupervised learning? List some examples Of unsupervised learning.  ",
      "metadata": {}
    },
    {
      "cell_type": "markdown",
      "source": ">Unsupervised leaning is type of machine learning in which an algorithms is trained on the unlebeled data,meaning there are no output labels provided.The goal of unsupervised learning is to find pattern or structure in the data that can help to better understand the underlying relationship and structure.\nEx:Clustering,Anomaly detection,dimensionality reduction,Topic modeling,Recommendation system,generative models.\n",
      "metadata": {}
    },
    {
      "cell_type": "markdown",
      "source": "Q4: What is the difference between AL, ML, DL, and DS?",
      "metadata": {}
    },
    {
      "cell_type": "markdown",
      "source": "AI refers to the ability of machine to perform tasks that requried human inteligence,such as understanding of natural language, recorginizing objects in image and make decision. AL system can train from experience and adapt to new sistuation,making them increasingly sopfisticated over time.\nMachine learning is subset of AI that involves teaching computer to learn from data without being explicitly programmed.ML algorithm use statistical techniques to identitfy patter in data and make predictions or decision based on those pattern.\nDeep learning is a subset of ML that involves using neural network to learn from large amount of data.Deep learning algorithm are design to automatically learn hierachical representation of data to identify increasing complex pattern and features.\nData Science is an interdisciplinary filed that involves the use of statistical,mathematical and computational techniques to extract insights and knowledge from data. DS includes a wide range of methods,including data analysis,data visualization,meachine learning and statistical modeling.\n",
      "metadata": {}
    },
    {
      "cell_type": "markdown",
      "source": "Q5: What are the main differences between supervised, unsupervised, and semi-supervised learning?\n",
      "metadata": {}
    },
    {
      "cell_type": "markdown",
      "source": ">Differnce between supervised, unsupervised, and semi-supervised learning are:\nSupervised learning aims to learn a function that, given a sample of data and desired outputs, approximates a function that maps inputs to outputs.\nSemi-supervised learning aims to label unlabeled data points using knowledge learned from a small number of labeled data points.\nUnsupervised learning does not have any labeled outputs, so its goal is to infer the natural structure present within a set of data points.\n",
      "metadata": {}
    },
    {
      "cell_type": "markdown",
      "source": "Q6: What is train, test and validation split? Explain the importance of each term.\n",
      "metadata": {}
    },
    {
      "cell_type": "markdown",
      "source": ">Training set: The traning is used to train the model.It contain input data and its corresponding output labels.During the training process,the model learn the relationship between the input and output data.\n",
      "metadata": {}
    },
    {
      "cell_type": "markdown",
      "source": ">Validation Set: The validation set is used to evaluate the performance of the model during the training process. It is used to fine-tune the hyperparameters of the model and prevent overfitting. The model is evaluated on the validation set after each epoch, and the hyperparameters are adjusted accordingly.\n",
      "metadata": {}
    },
    {
      "cell_type": "markdown",
      "source": ">Test Set: The test set is used to evaluate the performance of the final model. It is used to simulate the real-world scenario where the model has to make predictions on unseen data. The test set should not be used during the training process as it can lead to overfitting.\nThe importance of train-test-validation split is as follows:\n",
      "metadata": {}
    },
    {
      "cell_type": "markdown",
      "source": ">Preventing Overfitting: Overfitting occurs when the model learns the noise and outliers in the training data instead of the underlying patterns. Validation set helps in identifying overfitting by checking the performance of the model on unseen data.\n",
      "metadata": {}
    },
    {
      "cell_type": "markdown",
      "source": ">Hyperparameter Tuning: Machine learning models have many hyperparameters that need to be tuned to achieve the best performance. Validation set is used to tune these hyperparameters to get optimal performance.\n",
      "metadata": {}
    },
    {
      "cell_type": "markdown",
      "source": ">Measuring Performance: Test set provides an unbiased estimate of the model's performance on unseen data. It is used to measure the performance of the model on new and unknown data.\n",
      "metadata": {}
    },
    {
      "cell_type": "markdown",
      "source": "Q7: How can unsupervised learning be used in anomaly detection?",
      "metadata": {}
    },
    {
      "cell_type": "markdown",
      "source": "Here are some common unsupervised learning techniques used in anomaly detection:\nClustering: Clustering algorithms group similar data points together based on their similarity. Anomalies can be identified as data points that do not belong to any of the clusters or form their own cluster.\nAutoencoders: Autoencoders are neural network models that learn to reconstruct the input data by compressing it into a lower-dimensional space. Anomalies can be detected by measuring the reconstruction error. Data points with a high reconstruction error are cnsidered outliers.\nPrincipal Component Analysis (PCA): PCA is a technique used to reduce the dimensionality of the data by identifying the principal components that explain the most variance in the data. Anomalies can be detected by identifying data points that are farthest from the mean in the principal component space.\nDensity-based Methods: Density-based methods such as Local Outlier Factor (LOF) and DBSCAN identify anomalies as data points that are in low-density regions or have a low number of neighboring points.\n",
      "metadata": {}
    },
    {
      "cell_type": "code",
      "source": "\n\n8: List down some commonly used supervised learning algorithms and unsupervised learning aIgorithms.\nSupervised Learning Algorithms:\ni]Linear Regression\nii]Logistic Regression\niii]Decision Trees\niv]Random Forests\nv]Support Vector Machines (SVMs)\nvi]Naive Bayes\nvii]K-Nearest Neighbors (KNN)\nviii]Gradient Boosting Machines (GBMs)\nix]Artificial Neural Networks (ANNs)\nx]Convolutional Neural Networks (CNNs)\nxi]Recurrent Neural Networks (RNNs)\nUnsupervised Learning Algorithms:\ni]K-Means Clustering\nii]Hierarchical Clustering\niii]DBSCAN\niv]Gaussian Mixture Models (GMMs)\nv]Principal Component Analysis (PCA)\nvi]Independent Component Analysis (ICA)\nvii]Autoencoders\nviii]Self-Organizing Maps (SOMs)\nix]Isolation Forests\nx]One-class SVMs",
      "metadata": {},
      "execution_count": null,
      "outputs": []
    }
  ]
}