{
 "cells": [
  {
   "cell_type": "markdown",
   "id": "e465cb29-359a-432f-b3de-95a299110efe",
   "metadata": {},
   "source": [
    "1. Which keyword is used to create a function? Create a function to return a list of odd numbers in the range of 1 to 25."
   ]
  },
  {
   "cell_type": "markdown",
   "id": "d53382d5-1f56-4518-b376-1d8600ff3562",
   "metadata": {},
   "source": [
    ">def keyword is used to create function."
   ]
  },
  {
   "cell_type": "code",
   "execution_count": 2,
   "id": "f8fdf9fa-d78b-48eb-832e-cb1f44e54c5e",
   "metadata": {},
   "outputs": [
    {
     "name": "stdout",
     "output_type": "stream",
     "text": [
      "1\n",
      "3\n",
      "5\n",
      "7\n",
      "9\n",
      "11\n",
      "13\n",
      "15\n",
      "17\n",
      "19\n",
      "21\n",
      "23\n"
     ]
    }
   ],
   "source": [
    "def count1(num):\n",
    "    for i in range(0,num):\n",
    "        if i%2!=0:\n",
    "            print(i)\n",
    "count1(25)"
   ]
  },
  {
   "cell_type": "markdown",
   "id": "4cc4fa1d-46dd-4758-b1b4-6f40297798c2",
   "metadata": {},
   "source": [
    "2. Why *args and **kwargs is used in some functions? Create a function each for *args and **kwargs to demonstrate their use.\n"
   ]
  },
  {
   "cell_type": "markdown",
   "id": "3929a1c9-7380-4b75-b016-14f72642f9e1",
   "metadata": {},
   "source": [
    ">The *args is used to pass variable of non keyword argument to fuction.It accepts the ant number of argument and stored in tuple. \n"
   ]
  },
  {
   "cell_type": "markdown",
   "id": "ad8f7fe8-5eb3-440e-8c81-22b136697fac",
   "metadata": {},
   "source": [
    ">The **kwargs is used to pass variable of keyword argument to fuction.It accepts the ant number of argument and stored in dictionary. \n"
   ]
  },
  {
   "cell_type": "code",
   "execution_count": 3,
   "id": "04bc0827-656d-4b5c-bc3c-5015bba6bfe5",
   "metadata": {},
   "outputs": [
    {
     "name": "stdout",
     "output_type": "stream",
     "text": [
      "(1, 2, 3, 4, 5, 6, 67, 45)\n"
     ]
    }
   ],
   "source": [
    "def  test(*args):\n",
    "    print(args)\n",
    "test(1,2,3,4,5,6,67,45)"
   ]
  },
  {
   "cell_type": "code",
   "execution_count": 4,
   "id": "1bbab0df-f435-43c6-86e1-734d0f1cc938",
   "metadata": {},
   "outputs": [
    {
     "name": "stdout",
     "output_type": "stream",
     "text": [
      "{'id': 1, 'name': 'Hemanshu'}\n"
     ]
    }
   ],
   "source": [
    "def  test(**args):\n",
    "    print(args)\n",
    "test(id=1,name='Hemanshu')"
   ]
  },
  {
   "cell_type": "markdown",
   "id": "f1982a47-ad32-4fd8-a7f8-788f03f4a6d3",
   "metadata": {},
   "source": [
    "3. What is an iterator in python? Name the method used to initialise the iterator object and the method used for iteration. Use these methods to print the first five elements of the given list \n",
    "[2, 4, 6, 8, 10, 12, 14, 16,18, 20]."
   ]
  },
  {
   "cell_type": "markdown",
   "id": "6022b9ff-a401-4341-be00-f9956c722186",
   "metadata": {},
   "source": [
    "> The iterator in python is an object that allow us to iterate over the collection elements like list,tuple,dictionary.\n",
    "> The method use to initialise iteration is iter() method."
   ]
  },
  {
   "cell_type": "code",
   "execution_count": 5,
   "id": "71a13864-5c90-4abd-a413-353ba544d182",
   "metadata": {},
   "outputs": [
    {
     "name": "stdout",
     "output_type": "stream",
     "text": [
      "2\n",
      "4\n",
      "6\n",
      "8\n",
      "10\n"
     ]
    }
   ],
   "source": [
    "a=[2, 4, 6, 8, 10, 12, 14, 16,18, 20]\n",
    "b=iter(a)\n",
    "for i in range(5):\n",
    "    print(next(b))"
   ]
  },
  {
   "cell_type": "markdown",
   "id": "b558b05e-da28-404b-8a30-1691586b1b43",
   "metadata": {},
   "source": [
    "4.What is a generator function in python? Why yield keyword is used? Give an example of a generator function.\n"
   ]
  },
  {
   "cell_type": "markdown",
   "id": "3efce699-07a7-4eeb-a598-108b5a8f27ee",
   "metadata": {},
   "source": [
    ">A gernator fuction is special type of funtion that uses yeild keyword to return sequence of values.\n",
    "when generator function call it return generator object which iterate over using for loop and next() function.\n",
    "Each time the generator object is iterated over, the generator function resumes from the last yield statement,\n",
    "generates the next value in the sequence, and then suspends again until the next iteration."
   ]
  },
  {
   "cell_type": "markdown",
   "id": "571df3a2-f621-4209-a52d-a4606ad98fa6",
   "metadata": {},
   "source": [
    "5. Create a generator function for prime numbers less than 1000. Use the next() method to print the first 20 prime numbers.\n"
   ]
  },
  {
   "cell_type": "code",
   "execution_count": 6,
   "id": "d4d8ce72-9171-45d5-ba8b-6c62136093e2",
   "metadata": {},
   "outputs": [
    {
     "name": "stdout",
     "output_type": "stream",
     "text": [
      "2\n",
      "3\n",
      "5\n",
      "7\n",
      "11\n",
      "13\n",
      "17\n",
      "19\n",
      "23\n",
      "29\n",
      "31\n",
      "37\n",
      "41\n",
      "43\n",
      "47\n",
      "53\n",
      "59\n",
      "61\n",
      "67\n",
      "71\n"
     ]
    }
   ],
   "source": [
    "def primes():\n",
    "    temp = [True] * 1000\n",
    "    for num in range(2, 1000):\n",
    "        if temp[num]:\n",
    "            yield num\n",
    "            for multiple in range(num*num, 1000, num):\n",
    "                temp[multiple] = False\n",
    "prime_gen = primes()\n",
    "for i in range(20):\n",
    "    print(next(prime_gen))\n",
    "\t"
   ]
  }
 ],
 "metadata": {
  "kernelspec": {
   "display_name": "Python 3 (ipykernel)",
   "language": "python",
   "name": "python3"
  },
  "language_info": {
   "codemirror_mode": {
    "name": "ipython",
    "version": 3
   },
   "file_extension": ".py",
   "mimetype": "text/x-python",
   "name": "python",
   "nbconvert_exporter": "python",
   "pygments_lexer": "ipython3",
   "version": "3.10.8"
  }
 },
 "nbformat": 4,
 "nbformat_minor": 5
}
