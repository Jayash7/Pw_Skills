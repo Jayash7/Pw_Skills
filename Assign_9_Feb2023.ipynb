{
  "cells": [
    {
      "cell_type": "markdown",
      "metadata": {},
      "source": [
        "1. Create a vehicle class with an init method having instance variables as name_of_vehicle, max_speed and average_of_vehicle."
      ]
    },
    {
      "cell_type": "code",
      "execution_count": 2,
      "metadata": {
        "trusted": true
      },
      "outputs": [
        {
          "data": {
            "text/plain": [
              "('Honda', 130, 28)"
            ]
          },
          "execution_count": 2,
          "metadata": {},
          "output_type": "execute_result"
        }
      ],
      "source": [
        "class vehicle:\n",
        "    def __init__(jd,name_of_vehicle,max_speed,average_of_vehicle):\n",
        "        jd.__name_of_vehicle= name_of_vehicle\n",
        "        jd.__max_speed = max_speed\n",
        "        jd.__average_of_vehicle =average_of_vehicle\n",
        "        \n",
        "    def display(jd):\n",
        "        return jd.__name_of_vehicle,jd.__max_speed,jd.__average_of_vehicle\n",
        "    \n",
        "obj= vehicle('Honda',130,28)\n",
        "obj.display()"
      ]
    },
    {
      "cell_type": "markdown",
      "metadata": {},
      "source": [
        " 2. Create a child class car from the vehicle class created in Que 1, which will inherit the vehicle class.Create a method named seating _ capacity which takes capacity as an argument and returns the name of the vehicle and its seating capacity. "
      ]
    },
    {
      "cell_type": "code",
      "execution_count": 5,
      "metadata": {
        "trusted": true
      },
      "outputs": [
        {
          "data": {
            "text/plain": [
              "'(The model is Honda capacity is 5)'"
            ]
          },
          "execution_count": 5,
          "metadata": {},
          "output_type": "execute_result"
        }
      ],
      "source": [
        "class vehicle:\n",
        "    def __init__(jd,name_of_vehicle,max_speed,average_of_vehicle):\n",
        "        jd._name_of_vehicle= name_of_vehicle\n",
        "        jd._max_speed = max_speed\n",
        "        jd._average_of_vehicle =average_of_vehicle\n",
        "        \n",
        "class car(vehicle):\n",
        "    def seating_capacity(jd,capacity):\n",
        "        jd._capacity=capacity\n",
        "        return f\"(The model is {jd._name_of_vehicle} capacity is {jd._capacity})\"\n",
        "obj=car('Honda',130,28)\n",
        "obj.seating_capacity(5)"
      ]
    },
    {
      "cell_type": "markdown",
      "metadata": {},
      "source": [
        "3. What is multiple inheritance? Write a python code to demonstrate multiple inheritance."
      ]
    },
    {
      "cell_type": "markdown",
      "metadata": {},
      "source": [
        ">When child class inherits two or more parent or base class by inheriting properties and beheviour of it.\n",
        "ex:\n"
      ]
    },
    {
      "cell_type": "code",
      "execution_count": 7,
      "metadata": {
        "trusted": true
      },
      "outputs": [
        {
          "name": "stdout",
          "output_type": "stream",
          "text": [
            "2\n"
          ]
        }
      ],
      "source": [
        "class test1:\n",
        "    def demo1(jd):\n",
        "        jd._c=jd._a+jd._b\n",
        "        print(jd._c)\n",
        "\n",
        "class test2:\n",
        "    def demo2(jd):\n",
        "        jd._d=jd._a*jd._b\n",
        "        print(jd._d)\n",
        "\n",
        "class test3(test1,test2):\n",
        "    def demo3(jd,a,b):\n",
        "        jd._a=a\n",
        "        jd._b=b\n",
        "        jd._e=jd._a - jd._b\n",
        "        print(jd._e)\n",
        "\n",
        "obj=test3()\n",
        "obj.demo3(7,5)"
      ]
    },
    {
      "cell_type": "markdown",
      "metadata": {},
      "source": [
        "4. What are getter and setter in python? Create a class and create a getter and a setter method in this class.\n"
      ]
    },
    {
      "cell_type": "markdown",
      "metadata": {},
      "source": [
        ">getter and setter methods are allows user to control attribute."
      ]
    },
    {
      "cell_type": "markdown",
      "metadata": {},
      "source": [
        ">getter method retrives the attributes value and setter method use to set attribute values."
      ]
    },
    {
      "cell_type": "code",
      "execution_count": 13,
      "metadata": {
        "trusted": true
      },
      "outputs": [
        {
          "data": {
            "text/plain": [
              "3"
            ]
          },
          "execution_count": 13,
          "metadata": {},
          "output_type": "execute_result"
        }
      ],
      "source": [
        "class test1:\n",
        "    def __init__(self,a,b):\n",
        "        self.__a=a\n",
        "        self.__b=b\n",
        "        \n",
        "    def get(self):\n",
        "        return self.__a+self.__b\n",
        "    \n",
        "    def set(self,a_value,b_value):\n",
        "        self.__a=a_value\n",
        "        self.__b=b_value\n",
        "obj=test1(1,2)\n",
        "obj.get()"
      ]
    },
    {
      "cell_type": "code",
      "execution_count": 14,
      "metadata": {
        "trusted": true
      },
      "outputs": [
        {
          "data": {
            "text/plain": [
              "9"
            ]
          },
          "execution_count": 14,
          "metadata": {},
          "output_type": "execute_result"
        }
      ],
      "source": [
        "obj.set(4,5)\n",
        "obj.get()"
      ]
    },
    {
      "cell_type": "markdown",
      "metadata": {},
      "source": [
        "Using property"
      ]
    },
    {
      "cell_type": "code",
      "execution_count": 42,
      "metadata": {
        "trusted": true
      },
      "outputs": [
        {
          "data": {
            "text/plain": [
              "49"
            ]
          },
          "execution_count": 42,
          "metadata": {},
          "output_type": "execute_result"
        }
      ],
      "source": [
        "class test1:\n",
        "    def __init__(self,a):\n",
        "        self.__a=a\n",
        "        pass\n",
        "        \n",
        "    @property\n",
        "    def demo(self):\n",
        "        return f'The number is {self.__a}'\n",
        "        \n",
        "    @demo.getter\n",
        "    def get1(self):\n",
        "        self.__c=self.__a**2\n",
        "        return self.__c\n",
        "    \n",
        "    @demo.setter\n",
        "    def demo_set1(self,value):\n",
        "        a__value=value\n",
        "        self.__a=a__value\n",
        "obj=test1(7)\n",
        "obj.get1"
      ]
    },
    {
      "cell_type": "code",
      "execution_count": 45,
      "metadata": {
        "trusted": true
      },
      "outputs": [
        {
          "data": {
            "text/plain": [
              "'The number is 9'"
            ]
          },
          "execution_count": 45,
          "metadata": {},
          "output_type": "execute_result"
        }
      ],
      "source": [
        "obj.demo"
      ]
    },
    {
      "cell_type": "code",
      "execution_count": 44,
      "metadata": {
        "trusted": true
      },
      "outputs": [],
      "source": [
        "obj.demo_set1=9"
      ]
    },
    {
      "cell_type": "code",
      "execution_count": 33,
      "metadata": {
        "trusted": true
      },
      "outputs": [],
      "source": [
        "obj.demo_set1=7"
      ]
    },
    {
      "cell_type": "code",
      "execution_count": 46,
      "metadata": {
        "trusted": true
      },
      "outputs": [
        {
          "data": {
            "text/plain": [
              "81"
            ]
          },
          "execution_count": 46,
          "metadata": {},
          "output_type": "execute_result"
        }
      ],
      "source": [
        "obj.get1"
      ]
    },
    {
      "cell_type": "markdown",
      "metadata": {},
      "source": [
        "5. What is method overriding in python? Write a python code to demonstrate method overriding."
      ]
    },
    {
      "cell_type": "markdown",
      "metadata": {},
      "source": [
        ">Method overriding is feature in oop that allows subclass to provide differt implementation of the which is alreadt define superclass/base class."
      ]
    },
    {
      "cell_type": "code",
      "execution_count": 70,
      "metadata": {
        "trusted": true
      },
      "outputs": [],
      "source": [
        "class test1:\n",
        "    def demo(self,a,b):\n",
        "        self.a=a\n",
        "        self.b=b\n",
        "        c=self.a+self.b\n",
        "        print(c)\n",
        "        \n",
        "class test2(test1):\n",
        "    def demo(self,a,b):\n",
        "        self.a=a\n",
        "        self.b=b\n",
        "        self.d=self.a*self.b\n",
        "        print(self.d)\n",
        "        "
      ]
    },
    {
      "cell_type": "code",
      "execution_count": 71,
      "metadata": {
        "trusted": true
      },
      "outputs": [],
      "source": [
        "obj1=test1()\n",
        "obj2=test2()"
      ]
    },
    {
      "cell_type": "code",
      "execution_count": 73,
      "metadata": {
        "trusted": true
      },
      "outputs": [
        {
          "name": "stdout",
          "output_type": "stream",
          "text": [
            "9\n"
          ]
        }
      ],
      "source": [
        "obj1.demo(4,5)"
      ]
    },
    {
      "cell_type": "code",
      "execution_count": 74,
      "metadata": {
        "trusted": true
      },
      "outputs": [
        {
          "name": "stdout",
          "output_type": "stream",
          "text": [
            "20\n"
          ]
        }
      ],
      "source": [
        "obj2.demo(4,5)"
      ]
    }
  ],
  "metadata": {
    "kernelspec": {
      "display_name": "Python (Pyodide)",
      "language": "python",
      "name": "python"
    },
    "language_info": {
      "codemirror_mode": {
        "name": "python",
        "version": 3
      },
      "file_extension": ".py",
      "mimetype": "text/x-python",
      "name": "python",
      "nbconvert_exporter": "python",
      "pygments_lexer": "ipython3",
      "version": "3.8"
    }
  },
  "nbformat": 4,
  "nbformat_minor": 4
}
