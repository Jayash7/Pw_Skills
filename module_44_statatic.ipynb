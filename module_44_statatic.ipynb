{
 "cells": [
  {
   "cell_type": "markdown",
   "metadata": {},
   "source": [
    "Q1. What is the Probability Density Function?"
   ]
  },
  {
   "cell_type": "markdown",
   "metadata": {},
   "source": [
    "> The Probability Density Function (PDF) describes the likelihood of a continuous random variable to take on a particular value. The PDF is a function that describes the relative likelihood for this random variable to take on a given value. The area under the PDF curve within a certain range represents the probability that the variable falls within that range."
   ]
  },
  {
   "cell_type": "markdown",
   "metadata": {},
   "source": [
    "Q2. What are the types of Probability Distribution?"
   ]
  },
  {
   "cell_type": "markdown",
   "metadata": {},
   "source": [
    "> There are several types of probability distributions, including:\n",
    "\n",
    "**Discrete Distributions**: Binomial Distribution, Poisson Distribution ,Geometric Distribution\n",
    "\n",
    "**Continuous Distributions**: Normal Distribution, Exponential Distribution, Uniform Distribution"
   ]
  },
  {
   "cell_type": "markdown",
   "metadata": {},
   "source": [
    "Q3. Write a Python function to calculate the probability density function of a normal distribution with given mean and standard deviation at a given point."
   ]
  },
  {
   "cell_type": "code",
   "execution_count": null,
   "metadata": {},
   "outputs": [],
   "source": [
    "import math\n",
    "\n",
    "def normal_pdf(x, mean, std_dev):\n",
    "    exponent = math.exp(-((x - mean) ** 2 / (2 * std_dev ** 2)))\n",
    "    return (1 / (std_dev * math.sqrt(2 * math.pi))) * exponent\n",
    "\n",
    "mean = 0\n",
    "std_dev = 1\n",
    "x = 1\n",
    "print(normal_pdf(x, mean, std_dev)) "
   ]
  },
  {
   "cell_type": "markdown",
   "metadata": {},
   "source": [
    "Q4. What are the properties of Binomial Distribution? Give two examples of events where binomial distribution can be applied."
   ]
  },
  {
   "cell_type": "markdown",
   "metadata": {},
   "source": [
    "> Properties of Binomial Distribution:\n",
    "\n",
    "> 1.The number of trials, 𝑛, is fixed.\n",
    "\n",
    "> 2.Each trial is independent.\n",
    "\n",
    "> 3.Each trial has only two possible outcomes: success or failure.\n",
    "\n",
    "> 4.The probability of success, 𝑝, is the same for each trial.\n",
    "\n",
    "Examples:\n",
    "\n",
    "> 1.Tossing a coin 10 times and counting the number of heads.\n",
    "\n",
    "> 2.Number of defective items in a batch of 50 items produced by a factory."
   ]
  },
  {
   "cell_type": "markdown",
   "metadata": {},
   "source": [
    "Q5. Generate a random sample of size 1000 from a binomial distribution with probability of success 0.4 and plot a histogram of the results using matplotlib."
   ]
  },
  {
   "cell_type": "code",
   "execution_count": null,
   "metadata": {},
   "outputs": [],
   "source": [
    "import numpy as np\n",
    "import matplotlib.pyplot as plt\n",
    "\n",
    "n = 10\n",
    "p = 0.4\n",
    "\n",
    "sample = np.random.binomial(n, p, 1000)\n",
    "\n",
    "plt.hist(sample, bins=11, edgecolor='black', alpha=0.7)\n",
    "plt.title('Histogram of Binomial Distribution (n=10, p=0.4)')\n",
    "plt.xlabel('Number of Successes')\n",
    "plt.ylabel('Frequency')\n",
    "plt.show()"
   ]
  },
  {
   "cell_type": "markdown",
   "metadata": {},
   "source": [
    "Q6. Write a Python function to calculate the cumulative distribution function of a Poisson distribution with given mean at a given point."
   ]
  },
  {
   "cell_type": "code",
   "execution_count": null,
   "metadata": {},
   "outputs": [],
   "source": [
    "import math\n",
    "\n",
    "def poisson_cdf(k, lam):\n",
    "    cdf = 0\n",
    "    for i in range(k + 1):\n",
    "        cdf += (math.exp(-lam) * (lam ** i) / math.factorial(i))\n",
    "    return cdf\n",
    "\n",
    "lam = 3 \n",
    "k = 2\n",
    "print(poisson_cdf(k, lam))"
   ]
  },
  {
   "cell_type": "markdown",
   "metadata": {},
   "source": [
    "Q7. How is Binomial Distribution different from Poisson Distribution?"
   ]
  },
  {
   "cell_type": "markdown",
   "metadata": {},
   "source": [
    "**Binomial Distribution**:\n",
    "\n",
    "> Describes the number of successes in a fixed number of independent trials.\n",
    "\n",
    "> Each trial has two possible outcomes.\n",
    "\n",
    "> Probability of success is constant.\n",
    "\n",
    "**Poisson Distribution**:\n",
    "\n",
    "> Describes the number of events occurring within a fixed interval of time or space.\n",
    "\n",
    "> Used for events that occur randomly and independently.\n",
    "\n",
    "> The mean number of occurrences is constant."
   ]
  },
  {
   "cell_type": "markdown",
   "metadata": {},
   "source": [
    "Q8. Generate a random sample of size 1000 from a Poisson distribution with mean 5 and calculate the sample mean and variance."
   ]
  },
  {
   "cell_type": "code",
   "execution_count": null,
   "metadata": {},
   "outputs": [],
   "source": [
    "import numpy as np\n",
    "\n",
    "lam = 5\n",
    "\n",
    "sample = np.random.poisson(lam, 1000)\n",
    "\n",
    "sample_mean = np.mean(sample)\n",
    "sample_variance = np.var(sample)\n",
    "\n",
    "print(f'Sample Mean: {sample_mean}')\n",
    "print(f'Sample Variance: {sample_variance}')"
   ]
  },
  {
   "cell_type": "markdown",
   "metadata": {},
   "source": [
    "Q9. How are mean and variance related in Binomial Distribution and Poisson Distribution?"
   ]
  },
  {
   "cell_type": "markdown",
   "metadata": {},
   "source": [
    "**Binomial Distribution**:\n",
    "  - Mean ((μ)) = (n . p)\n",
    "  - Variance ((σ^2)) = (n . p . (1 - p))\n",
    "\n",
    "**Poisson Distribution**:\n",
    "  - Mean ((λ)) = (λ)\n",
    "  - Variance ((σ^2)) = (𝜆)"
   ]
  },
  {
   "cell_type": "markdown",
   "metadata": {},
   "source": [
    "Q10. In normal distribution with respect to mean position, where does the least frequent data appear?"
   ]
  },
  {
   "cell_type": "markdown",
   "metadata": {},
   "source": [
    "> In a normal distribution, the least frequent data appears in the tails, farthest from the mean. The further away from the mean, the less frequent the data points are, with the least frequent data points being those that are several standard deviations away from the mean."
   ]
  }
 ],
 "metadata": {
  "kernelspec": {
   "display_name": "vs_etl",
   "language": "python",
   "name": "python3"
  },
  "language_info": {
   "name": "python",
   "version": "3.10.13"
  }
 },
 "nbformat": 4,
 "nbformat_minor": 2
}
