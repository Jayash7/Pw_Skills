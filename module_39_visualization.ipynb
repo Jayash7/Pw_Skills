{
 "cells": [
  {
   "cell_type": "markdown",
   "metadata": {},
   "source": [
    "Que 1: Name any five plots that we can plot using the Seaborn library. Also, state the uses of each plot."
   ]
  },
  {
   "cell_type": "markdown",
   "metadata": {},
   "source": [
    "> Line Plot (sns.lineplot): Used to show trends over a period of time or continuous data points.\n",
    "\n",
    "> Bar Plot (sns.barplot): Used to compare different categories or groups.\n",
    "\n",
    "> Box Plot (sns.boxplot): Used to display the distribution of data and identify outliers.\n",
    "\n",
    "> Histogram (sns.histplot): Used to show the distribution of a single variable.\n",
    "\n",
    "> Heatmap (sns.heatmap): Used to display the intensity of values across a 2D matrix."
   ]
  },
  {
   "cell_type": "markdown",
   "metadata": {},
   "source": [
    "Que 2: Plot a line plot using the \"fmri\" dataset"
   ]
  },
  {
   "cell_type": "code",
   "execution_count": null,
   "metadata": {},
   "outputs": [],
   "source": [
    "import seaborn as sns\n",
    "import matplotlib.pyplot as plt\n",
    "\n",
    "fmri = sns.load_dataset('fmri')\n",
    "\n",
    "plt.figure(figsize=(10, 6))\n",
    "sns.lineplot(data=fmri, x='timepoint', y='signal', hue='event', style='region')\n",
    "plt.title('FMRI Signal over Time')\n",
    "plt.show()"
   ]
  },
  {
   "cell_type": "markdown",
   "metadata": {},
   "source": [
    "Que 3: Plot two box plots using the \"titanic\" dataset"
   ]
  },
  {
   "cell_type": "code",
   "execution_count": null,
   "metadata": {},
   "outputs": [],
   "source": [
    "titanic = sns.load_dataset('titanic')\n",
    "\n",
    "plt.figure(figsize=(14, 6))\n",
    "\n",
    "plt.subplot(1, 2, 1)\n",
    "sns.boxplot(data=titanic, x='pclass', y='age')\n",
    "plt.title('Age Distribution across Pclass')\n",
    "\n",
    "plt.subplot(1, 2, 2)\n",
    "sns.boxplot(data=titanic, x='pclass', y='fare')\n",
    "plt.title('Fare Distribution across Pclass')\n",
    "\n",
    "plt.tight_layout()\n",
    "plt.show()"
   ]
  },
  {
   "cell_type": "markdown",
   "metadata": {},
   "source": [
    "Que 4: Plot a histogram for the \"diamonds\" dataset using the hue parameter for the 'cut' column"
   ]
  },
  {
   "cell_type": "code",
   "execution_count": null,
   "metadata": {},
   "outputs": [],
   "source": [
    "diamonds = sns.load_dataset('diamonds')\n",
    "plt.figure(figsize=(10, 6))\n",
    "sns.histplot(data=diamonds, x='price', hue='cut', multiple='stack')\n",
    "plt.title('Price Distribution of Diamonds by Cut')\n",
    "plt.show()"
   ]
  },
  {
   "cell_type": "markdown",
   "metadata": {},
   "source": [
    "Que 5: Plot a pair plot using the \"iris\" dataset"
   ]
  },
  {
   "cell_type": "code",
   "execution_count": null,
   "metadata": {},
   "outputs": [],
   "source": [
    "iris = sns.load_dataset('iris')\n",
    "\n",
    "sns.pairplot(iris, hue='species')\n",
    "plt.suptitle('Pair Plot of Iris Dataset', y=1.02)\n",
    "plt.show()"
   ]
  },
  {
   "cell_type": "markdown",
   "metadata": {},
   "source": [
    "Que 6: Plot a heatmap using the \"flights\" dataset"
   ]
  },
  {
   "cell_type": "code",
   "execution_count": null,
   "metadata": {},
   "outputs": [],
   "source": [
    "flights = sns.load_dataset('flights')\n",
    "\n",
    "flights_pivot = flights.pivot('month', 'year', 'passengers')\n",
    "\n",
    "plt.figure(figsize=(12, 8))\n",
    "sns.heatmap(flights_pivot, annot=True, fmt='d', cmap='YlGnBu')\n",
    "plt.title('Number of Passengers per Month (1949-1960)')\n",
    "plt.show()"
   ]
  }
 ],
 "metadata": {
  "kernelspec": {
   "display_name": "vs_etl",
   "language": "python",
   "name": "python3"
  },
  "language_info": {
   "codemirror_mode": {
    "name": "ipython",
    "version": 3
   },
   "file_extension": ".py",
   "mimetype": "text/x-python",
   "name": "python",
   "nbconvert_exporter": "python",
   "pygments_lexer": "ipython3",
   "version": "3.10.13"
  }
 },
 "nbformat": 4,
 "nbformat_minor": 2
}
