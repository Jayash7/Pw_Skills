{
  "metadata": {
    "language_info": {
      "codemirror_mode": {
        "name": "python",
        "version": 3
      },
      "file_extension": ".py",
      "mimetype": "text/x-python",
      "name": "python",
      "nbconvert_exporter": "python",
      "pygments_lexer": "ipython3",
      "version": "3.8"
    },
    "kernelspec": {
      "name": "python",
      "display_name": "Python (Pyodide)",
      "language": "python"
    }
  },
  "nbformat_minor": 4,
  "nbformat": 4,
  "cells": [
    {
      "cell_type": "markdown",
      "source": "Q1. Create a function which will take a list as an argument and return the product of all the numbers\nafter creating a flat list.Use the below-given list as an argument for your function.",
      "metadata": {}
    },
    {
      "cell_type": "code",
      "source": "list1= [1,2,3,4,[44,55,66,True], False, (34,56,78,89,34), {1,2,3,3,2,1},{1:32, \"key2\": [55, 67, 78, 89], 4: (45,22, 61, 34)}, [56, 'data science'], 'Machine Learning']\na=[]\nfor i in list1:\n    if type(i) is int:\n        a.append(i)\n    elif type(i) is list:\n        for j in i:\n            if type(j) is int:\n                a.append(j)\n            else:\n                pass\n    elif type(i) is tuple:\n        for j in i:\n            if type(j) is int:\n                a.append(j)\n            else:\n                pass\n    elif type(i) is set:\n        for j in i:\n            if type(j) is int:\n                a.append(j)\n            else:\n                pass\n    elif type(i) is dict:\n        for j in i:\n            if type(j) is int:\n                a.append(j)\n                \n        for l in i.values():\n            if isinstance(l, list) or isinstance(l, tuple):\n                a.extend(l)\n            else:\n                a.append(l)\n    else:        pass\nprint(a)",
      "metadata": {
        "trusted": true
      },
      "execution_count": 147,
      "outputs": [
        {
          "name": "stdout",
          "text": "[1, 2, 3, 4, 44, 55, 66, 34, 56, 78, 89, 34, 1, 2, 3, 1, 4, 32, 55, 67, 78, 89, 45, 22, 61, 34, 56]\n",
          "output_type": "stream"
        }
      ]
    },
    {
      "cell_type": "markdown",
      "source": "Q2. Write a python program for encrypting a message sent to you by your friend. The logic of encryption\nshould be such that, for a the output should be z. For b, the output should be y. For c, the output should\nbe x respectively. Also, the whitespace should be replaced with a dollar sign. Keep the punctuation\nmarks unchanged.",
      "metadata": {}
    },
    {
      "cell_type": "code",
      "source": "statement='I want to become a Data Scientist'\nstate =''\nen_char=''\nfor char in  statement:\n    if char.isalpha():\n        state=char.lower()\n        for st in state:\n            if st=='a':\n                 en_char+='z'\n            elif st=='b':\n                en_char+='y'\n            elif st=='c':\n                en_char+='x'\n            else:\n                en_char+=st\n    elif char.isspace():\n        en_char+='$'\nprint(statement)       \nprint(en_char)",
      "metadata": {
        "trusted": true
      },
      "execution_count": 150,
      "outputs": [
        {
          "name": "stdout",
          "text": "I want to become a Data Scientist\ni$wznt$to$yexome$z$dztz$sxientist\n",
          "output_type": "stream"
        }
      ]
    }
  ]
}