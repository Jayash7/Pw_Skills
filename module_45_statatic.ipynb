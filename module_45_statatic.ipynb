{
 "cells": [
  {
   "cell_type": "markdown",
   "metadata": {},
   "source": [
    "Q1: What are the Probability Mass Function (PMF) and Probability Density Function (PDF)? Explain with an example."
   ]
  },
  {
   "cell_type": "markdown",
   "metadata": {},
   "source": [
    "**Probability Mass Function (PMF)**: PMF is used for discrete random variables. It gives the probability that a discrete random variable is exactly equal to some value.\n",
    "\n",
    "> Example: Consider a fair six-sided die. The PMF for rolling any specific number 𝑘 (where 𝑘 ranges from 1 to 6) is:\n",
    "P(X=k) = 1/6\n",
    "\n",
    "**Probability Density Function (PDF)**: PDF is used for continuous random variables. It describes the relative likelihood for this random variable to take on a given value. The probability that the variable falls within a particular range is given by the integral of the PDF over that range.\n",
    "\n",
    "> Example: For a normal distribution with mean μ and standard deviation 𝜎, the PDF is:\n",
    "\n",
    "> f(x)= (1/𝜎 sqrt 2TT) e^((-(x−μ)^2)/2𝜎^2)"
   ]
  },
  {
   "cell_type": "markdown",
   "metadata": {},
   "source": [
    "Q2: What is Cumulative Density Function (CDF)? Explain with an example. Why CDF is used?"
   ]
  },
  {
   "cell_type": "markdown",
   "metadata": {},
   "source": [
    "> The Cumulative Distribution Function (CDF) of a random variable( X ) is the function (F(x)) that gives the probability that (X) is less than or equal to (x):\n",
    "F(x) = P(X≤x)\n",
    "\n",
    "> Example: For a normal distribution with mean 0 and standard deviation 1, the CDF \n",
    "F(x) at 𝑥=1 gives the probability that a value drawn from this distribution is less than or equal to 1.\n",
    "\n",
    "> CDF is used because it provides a complete description of the distribution of a random variable. It helps to determine probabilities of intervals, median, and percentiles.\n"
   ]
  },
  {
   "cell_type": "markdown",
   "metadata": {},
   "source": [
    "Q3: What are some examples of situations where the normal distribution might be used as a model? Explain how the parameters of the normal distribution relate to the shape of the distribution."
   ]
  },
  {
   "cell_type": "markdown",
   "metadata": {},
   "source": [
    "> Examples:\n",
    "\n",
    "> 1.Heights of people in a population.\n",
    "> 2.Scores on standardized tests like the SAT.\n",
    "> 3.Measurement errors in scientific experiments.\n",
    "> 4.The parameters of the normal distribution are:\n",
    "\n",
    "> Mean (𝜇): The center of the distribution, indicating where the peak occurs.\n",
    "\n",
    "> Standard Deviation (𝜎): Determines the spread or width of the distribution. A smaller 𝜎 results in a narrower peak, while a larger 𝜎 results in a wider peak."
   ]
  },
  {
   "cell_type": "markdown",
   "metadata": {},
   "source": [
    "Q4: Explain the importance of Normal Distribution. Give a few real-life examples of Normal Distribution."
   ]
  },
  {
   "cell_type": "markdown",
   "metadata": {},
   "source": [
    "> The normal distribution is important because it describes many natural phenomena and measurement errors, forms the basis for statistical inference, and underlies the Central Limit Theorem.\n",
    "\n",
    "> Real-life examples:\n",
    "Heights and weights of individuals.\n",
    "Blood pressure measurements.\n",
    "Test scores like IQ scores."
   ]
  },
  {
   "cell_type": "markdown",
   "metadata": {},
   "source": [
    "Q5: What is Bernoulli Distribution? Give an Example. What is the difference between Bernoulli Distribution and Binomial Distribution?"
   ]
  },
  {
   "cell_type": "markdown",
   "metadata": {},
   "source": [
    "> Bernoulli Distribution: Describes a random experiment with exactly two possible outcomes: success (with probability \n",
    "𝑝) and failure (with probability 1−𝑝).\n",
    "\n",
    "> Example: Flipping a coin once, where success is defined as getting heads.\n",
    "\n",
    ">Difference:\n",
    "\n",
    ">**Bernoulli Distribution**: Involves a single trial.\n",
    "\n",
    ">**Binomial Distribution**: Involves multiple independent trials (each following a Bernoulli distribution), with the total number of successes being counted."
   ]
  },
  {
   "cell_type": "markdown",
   "metadata": {},
   "source": [
    "Q6. Consider a dataset with a mean of 50 and a standard deviation of 10. If we assume that the dataset is normally distributed, what is the probability that a randomly selected observation will be greater than 60? Use the appropriate formula and show your calculations."
   ]
  },
  {
   "cell_type": "markdown",
   "metadata": {},
   "source": [
    "> To find the probability that a randomly selected observation is greater than 60, we use the Z-score formula:\n",
    "\n",
    "> Z= (X−μ)/𝜎\n",
    "\n",
    ">For 𝑋=60, μ=50, and σ=10: \n",
    "\n",
    "> Z= (60−50) /10 = 1"
   ]
  },
  {
   "cell_type": "markdown",
   "metadata": {},
   "source": [
    "Q7: Explain uniform Distribution with an example."
   ]
  },
  {
   "cell_type": "markdown",
   "metadata": {},
   "source": [
    "> A uniform distribution is a type of probability distribution in which all outcomes are equally likely. Each variable has the same probability.\n",
    "\n",
    "> Example: Rolling a fair six-sided die. The probability of each side (1, 2, 3, 4, 5, 6) appearing is 1/6."
   ]
  },
  {
   "cell_type": "markdown",
   "metadata": {},
   "source": [
    "Q8: What is the z-score? State the importance of the z-score."
   ]
  },
  {
   "cell_type": "markdown",
   "metadata": {},
   "source": [
    "> A Z-score indicates how many standard deviations an element is from the mean of the distribution. It is calculated as:"
   ]
  },
  {
   "cell_type": "markdown",
   "metadata": {},
   "source": [
    ">Z= (X−μ)/𝜎\n",
    "\n",
    "**Importance**:\n",
    "\n",
    ">Standardizes different datasets for comparison.\n",
    "Identifies outliers.\n",
    "Facilitates calculation of probabilities in normal distributions."
   ]
  },
  {
   "cell_type": "markdown",
   "metadata": {},
   "source": [
    "Q9: What is Central Limit Theorem? State the significance of the Central Limit Theorem."
   ]
  },
  {
   "cell_type": "markdown",
   "metadata": {},
   "source": [
    ">The Central Limit Theorem (CLT) states that the distribution of the sample means approaches a normal distribution as the sample size becomes large, regardless of the population's distribution.\n",
    "\n",
    "**Significance**:\n",
    "\n",
    ">Allows for the use of normal distribution approximations in hypothesis testing and confidence intervals.\n",
    "Forms the foundation for many statistical procedures."
   ]
  },
  {
   "cell_type": "markdown",
   "metadata": {},
   "source": [
    "Q10: State the assumptions of the Central Limit Theorem."
   ]
  },
  {
   "cell_type": "markdown",
   "metadata": {},
   "source": [
    "> The sample size should be sufficiently large (usually n≥30).\n",
    "\n",
    "> Samples must be independent of each other.\n",
    "\n",
    "> The population from which the samples are drawn should have a finite variance.\n",
    "\n",
    "> These assumptions ensure that the sample mean distribution will be approximately normal."
   ]
  }
 ],
 "metadata": {
  "language_info": {
   "name": "python"
  }
 },
 "nbformat": 4,
 "nbformat_minor": 2
}
