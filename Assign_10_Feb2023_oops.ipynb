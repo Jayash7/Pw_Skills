{
 "cells": [
  {
   "cell_type": "markdown",
   "metadata": {},
   "source": [
    "Q1. Which function is used to open a file? What are the different modes of opening a file? Explain each mode\n",
    "of file opening."
   ]
  },
  {
   "cell_type": "markdown",
   "metadata": {},
   "source": [
    "\n",
    ">In Python, the open() function is used to open a file. It is a built-in function that returns a file object, which provides methods and attributes to perform various operations on the file.\n",
    "\n",
    ">The open() function takes two parameters:\n",
    "\n",
    ">filename: The name of the file to be opened (including the path, if the file is not in the current directory).\n",
    "mode: The mode in which the file should be opened.\n",
    "\n",
    ">Here are the different modes of opening a file and their explanations:\n",
    "\n",
    ">'r' (read mode)\n",
    "\n",
    ">'w' (write mode)\n",
    "\n",
    ">'a' (append mode)\n",
    "\n",
    ">'r+' (read/write mode)\n",
    "\n",
    ">'w+' (write/read mode)\n",
    "\n",
    ">'a+' (append/read mode)\n"
   ]
  },
  {
   "cell_type": "markdown",
   "metadata": {},
   "source": [
    "Q2. Why close() function is used? Why is it important to close a file?"
   ]
  },
  {
   "cell_type": "markdown",
   "metadata": {},
   "source": [
    ">The close() function is used to release system resources associated with an open file in Python. It's important to close a file to:\n",
    "\n",
    ">Ensure that all data written to the file is flushed and saved properly.\n",
    "\n",
    ">Free up system resources, allowing other programs to access the file.\n",
    "\n",
    ">Prevent data corruption or loss by ensuring that the file is properly closed and no unexpected changes occur.\n",
    "\n",
    ">Avoid potential issues with file locks or conflicts that could arise if the file remains open.\n",
    "\n",
    ">Maintain good programming practices and prevent memory leaks by properly managing file resources."
   ]
  },
  {
   "cell_type": "markdown",
   "metadata": {},
   "source": [
    "Q3. Write a python program to create a text file. Write ‘I want to become a Data Scientist’ in that file. Then\n",
    "close the file. Open this file and read the content of the file."
   ]
  },
  {
   "cell_type": "code",
   "execution_count": 1,
   "metadata": {},
   "outputs": [
    {
     "name": "stdout",
     "output_type": "stream",
     "text": [
      "Content of the file:\n",
      "I want to become a Data Scientist\n"
     ]
    }
   ],
   "source": [
    "with open(\"data_scientist.txt\", \"w\") as file:\n",
    "    file.write(\"I want to become a Data Scientist\")\n",
    "\n",
    "with open(\"data_scientist.txt\", \"r\") as file:\n",
    "    content = file.read()\n",
    "\n",
    "print(\"Content of the file:\")\n",
    "print(content)\n"
   ]
  },
  {
   "cell_type": "markdown",
   "metadata": {},
   "source": [
    "Q4. Explain the following with python code: read(), readline() and readlines()."
   ]
  },
  {
   "cell_type": "markdown",
   "metadata": {},
   "source": [
    ">read() method:The read() method reads the entire content of the file as a single string.\n",
    "If you don't specify the number of bytes to read, it reads the entire content of the file.\n",
    "If you specify the number of bytes to read, it reads that number of bytes from the file.\n",
    "\n",
    ">readline() method:The readline() method reads a single line from the file and returns it as a string.\n",
    "Each time you call readline(), it moves the file pointer to the next line.\n",
    "When it reaches the end of the file, it returns an empty string.\n",
    "\n",
    ">readlines() method:The readlines() method reads all the lines from the file and returns them as a list of strings.\n",
    "Each string in the list represents one line from the file."
   ]
  },
  {
   "cell_type": "markdown",
   "metadata": {},
   "source": [
    "Q5. Explain why with statement is used with open(). What is the advantage of using with statement and\n",
    "open() together?"
   ]
  },
  {
   "cell_type": "markdown",
   "metadata": {},
   "source": [
    ">The with statement is used with open() in Python to ensure that the file is properly closed after its suite (block of code) finishes execution, even if an exception occurs. This is advantageous because:\n",
    "\n",
    ">It guarantees proper resource management by automatically closing the file when the block of code exits.\n",
    "\n",
    ">It simplifies the syntax for file handling, making the code cleaner and more readable.\n",
    "\n",
    ">It reduces the risk of resource leaks and ensures that files are not accidentally left open.\n",
    "\n",
    ">It eliminates the need for explicit close() calls, reducing the chance of errors and improving code reliability.\n",
    "\n",
    ">It promotes good programming practices and helps in writing more robust and maintainable code."
   ]
  },
  {
   "cell_type": "markdown",
   "metadata": {},
   "source": [
    "Q6. Explain the write() and writelines() functions. Give a suitable example."
   ]
  },
  {
   "cell_type": "markdown",
   "metadata": {},
   "source": [
    "write() function:"
   ]
  },
  {
   "cell_type": "code",
   "execution_count": 2,
   "metadata": {},
   "outputs": [],
   "source": [
    "with open(\"example.txt\", \"w\") as file:\n",
    "    file.write(\"Hello, world!\\n\")\n",
    "    file.write(\"This is a test.\\n\")"
   ]
  },
  {
   "cell_type": "markdown",
   "metadata": {},
   "source": [
    "writelines() function:"
   ]
  },
  {
   "cell_type": "code",
   "execution_count": 3,
   "metadata": {},
   "outputs": [],
   "source": [
    "with open(\"example.txt\", \"w\") as file:\n",
    "    lines = [\"Hello, world!\\n\", \"This is a test.\\n\"]\n",
    "    file.writelines(lines)"
   ]
  }
 ],
 "metadata": {
  "kernelspec": {
   "display_name": "vs_etl",
   "language": "python",
   "name": "python3"
  },
  "language_info": {
   "codemirror_mode": {
    "name": "ipython",
    "version": 3
   },
   "file_extension": ".py",
   "mimetype": "text/x-python",
   "name": "python",
   "nbconvert_exporter": "python",
   "pygments_lexer": "ipython3",
   "version": "3.10.13"
  }
 },
 "nbformat": 4,
 "nbformat_minor": 2
}
